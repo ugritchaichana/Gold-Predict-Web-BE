{
  "cells": [
    {
      "cell_type": "code",
      "execution_count": 1,
      "id": "27e86681",
      "metadata": {
        "colab": {
          "base_uri": "https://localhost:8080/"
        },
        "id": "27e86681",
        "outputId": "eee1845a-143e-4035-e1c0-c64f123390d9"
      },
      "outputs": [
        {
          "output_type": "stream",
          "name": "stdout",
          "text": [
            "Collecting scikeras\n",
            "  Downloading scikeras-0.13.0-py3-none-any.whl.metadata (3.1 kB)\n",
            "Requirement already satisfied: keras>=3.2.0 in /usr/local/lib/python3.10/dist-packages (from scikeras) (3.4.1)\n",
            "Collecting scikit-learn>=1.4.2 (from scikeras)\n",
            "  Downloading scikit_learn-1.5.2-cp310-cp310-manylinux_2_17_x86_64.manylinux2014_x86_64.whl.metadata (13 kB)\n",
            "Requirement already satisfied: absl-py in /usr/local/lib/python3.10/dist-packages (from keras>=3.2.0->scikeras) (1.4.0)\n",
            "Requirement already satisfied: numpy in /usr/local/lib/python3.10/dist-packages (from keras>=3.2.0->scikeras) (1.26.4)\n",
            "Requirement already satisfied: rich in /usr/local/lib/python3.10/dist-packages (from keras>=3.2.0->scikeras) (13.8.1)\n",
            "Requirement already satisfied: namex in /usr/local/lib/python3.10/dist-packages (from keras>=3.2.0->scikeras) (0.0.8)\n",
            "Requirement already satisfied: h5py in /usr/local/lib/python3.10/dist-packages (from keras>=3.2.0->scikeras) (3.11.0)\n",
            "Requirement already satisfied: optree in /usr/local/lib/python3.10/dist-packages (from keras>=3.2.0->scikeras) (0.12.1)\n",
            "Requirement already satisfied: ml-dtypes in /usr/local/lib/python3.10/dist-packages (from keras>=3.2.0->scikeras) (0.4.0)\n",
            "Requirement already satisfied: packaging in /usr/local/lib/python3.10/dist-packages (from keras>=3.2.0->scikeras) (24.1)\n",
            "Requirement already satisfied: scipy>=1.6.0 in /usr/local/lib/python3.10/dist-packages (from scikit-learn>=1.4.2->scikeras) (1.13.1)\n",
            "Requirement already satisfied: joblib>=1.2.0 in /usr/local/lib/python3.10/dist-packages (from scikit-learn>=1.4.2->scikeras) (1.4.2)\n",
            "Requirement already satisfied: threadpoolctl>=3.1.0 in /usr/local/lib/python3.10/dist-packages (from scikit-learn>=1.4.2->scikeras) (3.5.0)\n",
            "Requirement already satisfied: typing-extensions>=4.5.0 in /usr/local/lib/python3.10/dist-packages (from optree->keras>=3.2.0->scikeras) (4.12.2)\n",
            "Requirement already satisfied: markdown-it-py>=2.2.0 in /usr/local/lib/python3.10/dist-packages (from rich->keras>=3.2.0->scikeras) (3.0.0)\n",
            "Requirement already satisfied: pygments<3.0.0,>=2.13.0 in /usr/local/lib/python3.10/dist-packages (from rich->keras>=3.2.0->scikeras) (2.16.1)\n",
            "Requirement already satisfied: mdurl~=0.1 in /usr/local/lib/python3.10/dist-packages (from markdown-it-py>=2.2.0->rich->keras>=3.2.0->scikeras) (0.1.2)\n",
            "Downloading scikeras-0.13.0-py3-none-any.whl (26 kB)\n",
            "Downloading scikit_learn-1.5.2-cp310-cp310-manylinux_2_17_x86_64.manylinux2014_x86_64.whl (13.3 MB)\n",
            "\u001b[2K   \u001b[90m━━━━━━━━━━━━━━━━━━━━━━━━━━━━━━━━━━━━━━━━\u001b[0m \u001b[32m13.3/13.3 MB\u001b[0m \u001b[31m42.8 MB/s\u001b[0m eta \u001b[36m0:00:00\u001b[0m\n",
            "\u001b[?25hInstalling collected packages: scikit-learn, scikeras\n",
            "  Attempting uninstall: scikit-learn\n",
            "    Found existing installation: scikit-learn 1.3.2\n",
            "    Uninstalling scikit-learn-1.3.2:\n",
            "      Successfully uninstalled scikit-learn-1.3.2\n",
            "Successfully installed scikeras-0.13.0 scikit-learn-1.5.2\n"
          ]
        }
      ],
      "source": [
        "!pip install scikeras\n",
        "from scikeras.wrappers import KerasClassifier, KerasRegressor\n",
        "import numpy as np\n",
        "from tensorflow.keras.models import Sequential\n",
        "from tensorflow.keras.layers import LSTM\n",
        "from tensorflow.keras.layers import Dense, Dropout\n",
        "import pandas as pd\n",
        "from matplotlib import pyplot as plt\n",
        "from sklearn.preprocessing import MinMaxScaler\n",
        "import seaborn as sns\n",
        "from sklearn.model_selection import GridSearchCV"
      ]
    },
    {
      "cell_type": "code",
      "execution_count": 2,
      "id": "59a416cd",
      "metadata": {
        "id": "59a416cd",
        "colab": {
          "base_uri": "https://localhost:8080/"
        },
        "outputId": "0ad8ad5a-02aa-49de-8412-c0d5f10e6df8"
      },
      "outputs": [
        {
          "output_type": "stream",
          "name": "stderr",
          "text": [
            "<ipython-input-2-4286302d6d8c>:1: UserWarning: Parsing dates in %d/%m/%Y format when dayfirst=False (the default) was specified. Pass `dayfirst=True` or specify a format to silence this warning.\n",
            "  df=pd.read_csv(\"/content/DataFrame.csv\",parse_dates=[\"Timestamp\"],index_col=[0])\n"
          ]
        }
      ],
      "source": [
        "df=pd.read_csv(\"/content/DataFrame.csv\",parse_dates=[\"Timestamp\"],index_col=[0])"
      ]
    },
    {
      "cell_type": "code",
      "execution_count": 3,
      "id": "ab54faea",
      "metadata": {
        "colab": {
          "base_uri": "https://localhost:8080/"
        },
        "id": "ab54faea",
        "outputId": "ca0ac28a-426f-4893-9a51-0d736d22e100"
      },
      "outputs": [
        {
          "output_type": "stream",
          "name": "stdout",
          "text": [
            "None\n"
          ]
        }
      ],
      "source": [
        "print(df.index.freq)"
      ]
    },
    {
      "cell_type": "code",
      "source": [
        "df = df.drop(columns=['Policy_rate'])"
      ],
      "metadata": {
        "id": "GZfO0PJxNk1K"
      },
      "id": "GZfO0PJxNk1K",
      "execution_count": 4,
      "outputs": []
    },
    {
      "cell_type": "code",
      "source": [
        "# import pandas as pd\n",
        "\n",
        "# # สมมติว่ามี DataFrame ชื่อ df ที่คอลัมน์ 'Date' คือวันที่ และ 'Value' คือค่าของข้อมูล\n",
        "# # df['Timestamp'] = pd.to_datetime(df['Timestamp'])  # แปลงคอลัมน์ Date ให้เป็น datetime\n",
        "# # df.set_index('Timestamp', inplace=True)  # ตั้ง 'Date' เป็น index\n",
        "\n",
        "# # ใช้ resample เพื่อแปลงข้อมูลเป็นรายเดือน (M)\n",
        "# monthly_df = df.resample('M').mean()  # แปลงข้อมูลเป็นรายเดือนโดยใช้ค่าเฉลี่ย\n",
        "\n",
        "# # หากต้องการใช้ฟังก์ชันอื่นเช่น ผลรวม\n",
        "# monthly_df_sum = df.resample('M').sum()  # ผลรวมของข้อมูลรายเดือน\n"
      ],
      "metadata": {
        "id": "luAIRa6J8Bwl"
      },
      "id": "luAIRa6J8Bwl",
      "execution_count": 66,
      "outputs": []
    },
    {
      "cell_type": "code",
      "source": [
        "# monthly_df.to_csv(\"/content/monthly_df.csv\")"
      ],
      "metadata": {
        "id": "NetOKMgC8yCP"
      },
      "id": "NetOKMgC8yCP",
      "execution_count": 68,
      "outputs": []
    },
    {
      "cell_type": "code",
      "source": [
        "df.describe()"
      ],
      "metadata": {
        "colab": {
          "base_uri": "https://localhost:8080/",
          "height": 300
        },
        "id": "klQWeObqeF8G",
        "outputId": "bd3e09a0-03ba-4cc9-a077-a3285152d5c8"
      },
      "id": "klQWeObqeF8G",
      "execution_count": 5,
      "outputs": [
        {
          "output_type": "execute_result",
          "data": {
            "text/plain": [
              "         Gold_price  Exchange_mid_rate  price_index    Xau_Price\n",
              "count   3394.000000        3394.000000  3394.000000  3394.000000\n",
              "mean   23999.616971          33.312501   100.679110  1518.660899\n",
              "std     5563.686139           1.879509     3.815625   323.058992\n",
              "min    17850.000000          29.804000    96.600000  1051.740000\n",
              "25%    19600.000000          31.830900    97.920000  1252.737500\n",
              "50%    21000.000000          32.979550    99.360000  1338.375000\n",
              "75%    28450.000000          34.948650   101.860000  1811.567500\n",
              "max    41700.000000          38.338000   108.840000  2425.120000"
            ],
            "text/html": [
              "\n",
              "  <div id=\"df-0e80f3ff-bc39-41a2-b74f-c6b24512b5fd\" class=\"colab-df-container\">\n",
              "    <div>\n",
              "<style scoped>\n",
              "    .dataframe tbody tr th:only-of-type {\n",
              "        vertical-align: middle;\n",
              "    }\n",
              "\n",
              "    .dataframe tbody tr th {\n",
              "        vertical-align: top;\n",
              "    }\n",
              "\n",
              "    .dataframe thead th {\n",
              "        text-align: right;\n",
              "    }\n",
              "</style>\n",
              "<table border=\"1\" class=\"dataframe\">\n",
              "  <thead>\n",
              "    <tr style=\"text-align: right;\">\n",
              "      <th></th>\n",
              "      <th>Gold_price</th>\n",
              "      <th>Exchange_mid_rate</th>\n",
              "      <th>price_index</th>\n",
              "      <th>Xau_Price</th>\n",
              "    </tr>\n",
              "  </thead>\n",
              "  <tbody>\n",
              "    <tr>\n",
              "      <th>count</th>\n",
              "      <td>3394.000000</td>\n",
              "      <td>3394.000000</td>\n",
              "      <td>3394.000000</td>\n",
              "      <td>3394.000000</td>\n",
              "    </tr>\n",
              "    <tr>\n",
              "      <th>mean</th>\n",
              "      <td>23999.616971</td>\n",
              "      <td>33.312501</td>\n",
              "      <td>100.679110</td>\n",
              "      <td>1518.660899</td>\n",
              "    </tr>\n",
              "    <tr>\n",
              "      <th>std</th>\n",
              "      <td>5563.686139</td>\n",
              "      <td>1.879509</td>\n",
              "      <td>3.815625</td>\n",
              "      <td>323.058992</td>\n",
              "    </tr>\n",
              "    <tr>\n",
              "      <th>min</th>\n",
              "      <td>17850.000000</td>\n",
              "      <td>29.804000</td>\n",
              "      <td>96.600000</td>\n",
              "      <td>1051.740000</td>\n",
              "    </tr>\n",
              "    <tr>\n",
              "      <th>25%</th>\n",
              "      <td>19600.000000</td>\n",
              "      <td>31.830900</td>\n",
              "      <td>97.920000</td>\n",
              "      <td>1252.737500</td>\n",
              "    </tr>\n",
              "    <tr>\n",
              "      <th>50%</th>\n",
              "      <td>21000.000000</td>\n",
              "      <td>32.979550</td>\n",
              "      <td>99.360000</td>\n",
              "      <td>1338.375000</td>\n",
              "    </tr>\n",
              "    <tr>\n",
              "      <th>75%</th>\n",
              "      <td>28450.000000</td>\n",
              "      <td>34.948650</td>\n",
              "      <td>101.860000</td>\n",
              "      <td>1811.567500</td>\n",
              "    </tr>\n",
              "    <tr>\n",
              "      <th>max</th>\n",
              "      <td>41700.000000</td>\n",
              "      <td>38.338000</td>\n",
              "      <td>108.840000</td>\n",
              "      <td>2425.120000</td>\n",
              "    </tr>\n",
              "  </tbody>\n",
              "</table>\n",
              "</div>\n",
              "    <div class=\"colab-df-buttons\">\n",
              "\n",
              "  <div class=\"colab-df-container\">\n",
              "    <button class=\"colab-df-convert\" onclick=\"convertToInteractive('df-0e80f3ff-bc39-41a2-b74f-c6b24512b5fd')\"\n",
              "            title=\"Convert this dataframe to an interactive table.\"\n",
              "            style=\"display:none;\">\n",
              "\n",
              "  <svg xmlns=\"http://www.w3.org/2000/svg\" height=\"24px\" viewBox=\"0 -960 960 960\">\n",
              "    <path d=\"M120-120v-720h720v720H120Zm60-500h600v-160H180v160Zm220 220h160v-160H400v160Zm0 220h160v-160H400v160ZM180-400h160v-160H180v160Zm440 0h160v-160H620v160ZM180-180h160v-160H180v160Zm440 0h160v-160H620v160Z\"/>\n",
              "  </svg>\n",
              "    </button>\n",
              "\n",
              "  <style>\n",
              "    .colab-df-container {\n",
              "      display:flex;\n",
              "      gap: 12px;\n",
              "    }\n",
              "\n",
              "    .colab-df-convert {\n",
              "      background-color: #E8F0FE;\n",
              "      border: none;\n",
              "      border-radius: 50%;\n",
              "      cursor: pointer;\n",
              "      display: none;\n",
              "      fill: #1967D2;\n",
              "      height: 32px;\n",
              "      padding: 0 0 0 0;\n",
              "      width: 32px;\n",
              "    }\n",
              "\n",
              "    .colab-df-convert:hover {\n",
              "      background-color: #E2EBFA;\n",
              "      box-shadow: 0px 1px 2px rgba(60, 64, 67, 0.3), 0px 1px 3px 1px rgba(60, 64, 67, 0.15);\n",
              "      fill: #174EA6;\n",
              "    }\n",
              "\n",
              "    .colab-df-buttons div {\n",
              "      margin-bottom: 4px;\n",
              "    }\n",
              "\n",
              "    [theme=dark] .colab-df-convert {\n",
              "      background-color: #3B4455;\n",
              "      fill: #D2E3FC;\n",
              "    }\n",
              "\n",
              "    [theme=dark] .colab-df-convert:hover {\n",
              "      background-color: #434B5C;\n",
              "      box-shadow: 0px 1px 3px 1px rgba(0, 0, 0, 0.15);\n",
              "      filter: drop-shadow(0px 1px 2px rgba(0, 0, 0, 0.3));\n",
              "      fill: #FFFFFF;\n",
              "    }\n",
              "  </style>\n",
              "\n",
              "    <script>\n",
              "      const buttonEl =\n",
              "        document.querySelector('#df-0e80f3ff-bc39-41a2-b74f-c6b24512b5fd button.colab-df-convert');\n",
              "      buttonEl.style.display =\n",
              "        google.colab.kernel.accessAllowed ? 'block' : 'none';\n",
              "\n",
              "      async function convertToInteractive(key) {\n",
              "        const element = document.querySelector('#df-0e80f3ff-bc39-41a2-b74f-c6b24512b5fd');\n",
              "        const dataTable =\n",
              "          await google.colab.kernel.invokeFunction('convertToInteractive',\n",
              "                                                    [key], {});\n",
              "        if (!dataTable) return;\n",
              "\n",
              "        const docLinkHtml = 'Like what you see? Visit the ' +\n",
              "          '<a target=\"_blank\" href=https://colab.research.google.com/notebooks/data_table.ipynb>data table notebook</a>'\n",
              "          + ' to learn more about interactive tables.';\n",
              "        element.innerHTML = '';\n",
              "        dataTable['output_type'] = 'display_data';\n",
              "        await google.colab.output.renderOutput(dataTable, element);\n",
              "        const docLink = document.createElement('div');\n",
              "        docLink.innerHTML = docLinkHtml;\n",
              "        element.appendChild(docLink);\n",
              "      }\n",
              "    </script>\n",
              "  </div>\n",
              "\n",
              "\n",
              "<div id=\"df-f8ff0b86-717d-4230-863f-2b41f9b3f424\">\n",
              "  <button class=\"colab-df-quickchart\" onclick=\"quickchart('df-f8ff0b86-717d-4230-863f-2b41f9b3f424')\"\n",
              "            title=\"Suggest charts\"\n",
              "            style=\"display:none;\">\n",
              "\n",
              "<svg xmlns=\"http://www.w3.org/2000/svg\" height=\"24px\"viewBox=\"0 0 24 24\"\n",
              "     width=\"24px\">\n",
              "    <g>\n",
              "        <path d=\"M19 3H5c-1.1 0-2 .9-2 2v14c0 1.1.9 2 2 2h14c1.1 0 2-.9 2-2V5c0-1.1-.9-2-2-2zM9 17H7v-7h2v7zm4 0h-2V7h2v10zm4 0h-2v-4h2v4z\"/>\n",
              "    </g>\n",
              "</svg>\n",
              "  </button>\n",
              "\n",
              "<style>\n",
              "  .colab-df-quickchart {\n",
              "      --bg-color: #E8F0FE;\n",
              "      --fill-color: #1967D2;\n",
              "      --hover-bg-color: #E2EBFA;\n",
              "      --hover-fill-color: #174EA6;\n",
              "      --disabled-fill-color: #AAA;\n",
              "      --disabled-bg-color: #DDD;\n",
              "  }\n",
              "\n",
              "  [theme=dark] .colab-df-quickchart {\n",
              "      --bg-color: #3B4455;\n",
              "      --fill-color: #D2E3FC;\n",
              "      --hover-bg-color: #434B5C;\n",
              "      --hover-fill-color: #FFFFFF;\n",
              "      --disabled-bg-color: #3B4455;\n",
              "      --disabled-fill-color: #666;\n",
              "  }\n",
              "\n",
              "  .colab-df-quickchart {\n",
              "    background-color: var(--bg-color);\n",
              "    border: none;\n",
              "    border-radius: 50%;\n",
              "    cursor: pointer;\n",
              "    display: none;\n",
              "    fill: var(--fill-color);\n",
              "    height: 32px;\n",
              "    padding: 0;\n",
              "    width: 32px;\n",
              "  }\n",
              "\n",
              "  .colab-df-quickchart:hover {\n",
              "    background-color: var(--hover-bg-color);\n",
              "    box-shadow: 0 1px 2px rgba(60, 64, 67, 0.3), 0 1px 3px 1px rgba(60, 64, 67, 0.15);\n",
              "    fill: var(--button-hover-fill-color);\n",
              "  }\n",
              "\n",
              "  .colab-df-quickchart-complete:disabled,\n",
              "  .colab-df-quickchart-complete:disabled:hover {\n",
              "    background-color: var(--disabled-bg-color);\n",
              "    fill: var(--disabled-fill-color);\n",
              "    box-shadow: none;\n",
              "  }\n",
              "\n",
              "  .colab-df-spinner {\n",
              "    border: 2px solid var(--fill-color);\n",
              "    border-color: transparent;\n",
              "    border-bottom-color: var(--fill-color);\n",
              "    animation:\n",
              "      spin 1s steps(1) infinite;\n",
              "  }\n",
              "\n",
              "  @keyframes spin {\n",
              "    0% {\n",
              "      border-color: transparent;\n",
              "      border-bottom-color: var(--fill-color);\n",
              "      border-left-color: var(--fill-color);\n",
              "    }\n",
              "    20% {\n",
              "      border-color: transparent;\n",
              "      border-left-color: var(--fill-color);\n",
              "      border-top-color: var(--fill-color);\n",
              "    }\n",
              "    30% {\n",
              "      border-color: transparent;\n",
              "      border-left-color: var(--fill-color);\n",
              "      border-top-color: var(--fill-color);\n",
              "      border-right-color: var(--fill-color);\n",
              "    }\n",
              "    40% {\n",
              "      border-color: transparent;\n",
              "      border-right-color: var(--fill-color);\n",
              "      border-top-color: var(--fill-color);\n",
              "    }\n",
              "    60% {\n",
              "      border-color: transparent;\n",
              "      border-right-color: var(--fill-color);\n",
              "    }\n",
              "    80% {\n",
              "      border-color: transparent;\n",
              "      border-right-color: var(--fill-color);\n",
              "      border-bottom-color: var(--fill-color);\n",
              "    }\n",
              "    90% {\n",
              "      border-color: transparent;\n",
              "      border-bottom-color: var(--fill-color);\n",
              "    }\n",
              "  }\n",
              "</style>\n",
              "\n",
              "  <script>\n",
              "    async function quickchart(key) {\n",
              "      const quickchartButtonEl =\n",
              "        document.querySelector('#' + key + ' button');\n",
              "      quickchartButtonEl.disabled = true;  // To prevent multiple clicks.\n",
              "      quickchartButtonEl.classList.add('colab-df-spinner');\n",
              "      try {\n",
              "        const charts = await google.colab.kernel.invokeFunction(\n",
              "            'suggestCharts', [key], {});\n",
              "      } catch (error) {\n",
              "        console.error('Error during call to suggestCharts:', error);\n",
              "      }\n",
              "      quickchartButtonEl.classList.remove('colab-df-spinner');\n",
              "      quickchartButtonEl.classList.add('colab-df-quickchart-complete');\n",
              "    }\n",
              "    (() => {\n",
              "      let quickchartButtonEl =\n",
              "        document.querySelector('#df-f8ff0b86-717d-4230-863f-2b41f9b3f424 button');\n",
              "      quickchartButtonEl.style.display =\n",
              "        google.colab.kernel.accessAllowed ? 'block' : 'none';\n",
              "    })();\n",
              "  </script>\n",
              "</div>\n",
              "\n",
              "    </div>\n",
              "  </div>\n"
            ],
            "application/vnd.google.colaboratory.intrinsic+json": {
              "type": "dataframe",
              "summary": "{\n  \"name\": \"df\",\n  \"rows\": 8,\n  \"fields\": [\n    {\n      \"column\": \"Gold_price\",\n      \"properties\": {\n        \"dtype\": \"number\",\n        \"std\": 12235.400517109189,\n        \"min\": 3394.0,\n        \"max\": 41700.0,\n        \"num_unique_values\": 8,\n        \"samples\": [\n          23999.616971125517,\n          21000.0,\n          3394.0\n        ],\n        \"semantic_type\": \"\",\n        \"description\": \"\"\n      }\n    },\n    {\n      \"column\": \"Exchange_mid_rate\",\n      \"properties\": {\n        \"dtype\": \"number\",\n        \"std\": 1189.7565624847668,\n        \"min\": 1.8795093598099133,\n        \"max\": 3394.0,\n        \"num_unique_values\": 8,\n        \"samples\": [\n          33.312500500883914,\n          32.97955,\n          3394.0\n        ],\n        \"semantic_type\": \"\",\n        \"description\": \"\"\n      }\n    },\n    {\n      \"column\": \"price_index\",\n      \"properties\": {\n        \"dtype\": \"number\",\n        \"std\": 1169.6962259067507,\n        \"min\": 3.815625177409974,\n        \"max\": 3394.0,\n        \"num_unique_values\": 8,\n        \"samples\": [\n          100.67911019446082,\n          99.36,\n          3394.0\n        ],\n        \"semantic_type\": \"\",\n        \"description\": \"\"\n      }\n    },\n    {\n      \"column\": \"Xau_Price\",\n      \"properties\": {\n        \"dtype\": \"number\",\n        \"std\": 930.3162689404711,\n        \"min\": 323.0589917304872,\n        \"max\": 3394.0,\n        \"num_unique_values\": 8,\n        \"samples\": [\n          1518.660898644667,\n          1338.375,\n          3394.0\n        ],\n        \"semantic_type\": \"\",\n        \"description\": \"\"\n      }\n    }\n  ]\n}"
            }
          },
          "metadata": {},
          "execution_count": 5
        }
      ]
    },
    {
      "cell_type": "code",
      "execution_count": 6,
      "id": "9d69a828",
      "metadata": {
        "colab": {
          "base_uri": "https://localhost:8080/"
        },
        "id": "9d69a828",
        "outputId": "388a01e3-8cdb-4b47-a6fa-0fac406d4afc"
      },
      "outputs": [
        {
          "output_type": "execute_result",
          "data": {
            "text/plain": [
              "(3394, 4)"
            ]
          },
          "metadata": {},
          "execution_count": 6
        }
      ],
      "source": [
        "df.shape"
      ]
    },
    {
      "cell_type": "code",
      "execution_count": 7,
      "id": "1fe6f18e",
      "metadata": {
        "colab": {
          "base_uri": "https://localhost:8080/",
          "height": 237
        },
        "id": "1fe6f18e",
        "outputId": "6be2e4f7-a630-434e-e830-34f3283ad2d0"
      },
      "outputs": [
        {
          "output_type": "execute_result",
          "data": {
            "text/plain": [
              "            Gold_price  Exchange_mid_rate  price_index  Xau_Price\n",
              "Timestamp                                                        \n",
              "2013-07-23       19500            30.9172        96.61    1348.10\n",
              "2013-07-24       19650            30.9118        96.61    1321.30\n",
              "2013-07-25       19400            31.0756        96.61    1333.65\n",
              "2013-07-26       19650            31.0994        96.61    1333.90\n",
              "2013-07-27       19650            31.0994        96.61    1333.90"
            ],
            "text/html": [
              "\n",
              "  <div id=\"df-ac568135-5e88-415a-91d5-aa2b6cb2a0bb\" class=\"colab-df-container\">\n",
              "    <div>\n",
              "<style scoped>\n",
              "    .dataframe tbody tr th:only-of-type {\n",
              "        vertical-align: middle;\n",
              "    }\n",
              "\n",
              "    .dataframe tbody tr th {\n",
              "        vertical-align: top;\n",
              "    }\n",
              "\n",
              "    .dataframe thead th {\n",
              "        text-align: right;\n",
              "    }\n",
              "</style>\n",
              "<table border=\"1\" class=\"dataframe\">\n",
              "  <thead>\n",
              "    <tr style=\"text-align: right;\">\n",
              "      <th></th>\n",
              "      <th>Gold_price</th>\n",
              "      <th>Exchange_mid_rate</th>\n",
              "      <th>price_index</th>\n",
              "      <th>Xau_Price</th>\n",
              "    </tr>\n",
              "    <tr>\n",
              "      <th>Timestamp</th>\n",
              "      <th></th>\n",
              "      <th></th>\n",
              "      <th></th>\n",
              "      <th></th>\n",
              "    </tr>\n",
              "  </thead>\n",
              "  <tbody>\n",
              "    <tr>\n",
              "      <th>2013-07-23</th>\n",
              "      <td>19500</td>\n",
              "      <td>30.9172</td>\n",
              "      <td>96.61</td>\n",
              "      <td>1348.10</td>\n",
              "    </tr>\n",
              "    <tr>\n",
              "      <th>2013-07-24</th>\n",
              "      <td>19650</td>\n",
              "      <td>30.9118</td>\n",
              "      <td>96.61</td>\n",
              "      <td>1321.30</td>\n",
              "    </tr>\n",
              "    <tr>\n",
              "      <th>2013-07-25</th>\n",
              "      <td>19400</td>\n",
              "      <td>31.0756</td>\n",
              "      <td>96.61</td>\n",
              "      <td>1333.65</td>\n",
              "    </tr>\n",
              "    <tr>\n",
              "      <th>2013-07-26</th>\n",
              "      <td>19650</td>\n",
              "      <td>31.0994</td>\n",
              "      <td>96.61</td>\n",
              "      <td>1333.90</td>\n",
              "    </tr>\n",
              "    <tr>\n",
              "      <th>2013-07-27</th>\n",
              "      <td>19650</td>\n",
              "      <td>31.0994</td>\n",
              "      <td>96.61</td>\n",
              "      <td>1333.90</td>\n",
              "    </tr>\n",
              "  </tbody>\n",
              "</table>\n",
              "</div>\n",
              "    <div class=\"colab-df-buttons\">\n",
              "\n",
              "  <div class=\"colab-df-container\">\n",
              "    <button class=\"colab-df-convert\" onclick=\"convertToInteractive('df-ac568135-5e88-415a-91d5-aa2b6cb2a0bb')\"\n",
              "            title=\"Convert this dataframe to an interactive table.\"\n",
              "            style=\"display:none;\">\n",
              "\n",
              "  <svg xmlns=\"http://www.w3.org/2000/svg\" height=\"24px\" viewBox=\"0 -960 960 960\">\n",
              "    <path d=\"M120-120v-720h720v720H120Zm60-500h600v-160H180v160Zm220 220h160v-160H400v160Zm0 220h160v-160H400v160ZM180-400h160v-160H180v160Zm440 0h160v-160H620v160ZM180-180h160v-160H180v160Zm440 0h160v-160H620v160Z\"/>\n",
              "  </svg>\n",
              "    </button>\n",
              "\n",
              "  <style>\n",
              "    .colab-df-container {\n",
              "      display:flex;\n",
              "      gap: 12px;\n",
              "    }\n",
              "\n",
              "    .colab-df-convert {\n",
              "      background-color: #E8F0FE;\n",
              "      border: none;\n",
              "      border-radius: 50%;\n",
              "      cursor: pointer;\n",
              "      display: none;\n",
              "      fill: #1967D2;\n",
              "      height: 32px;\n",
              "      padding: 0 0 0 0;\n",
              "      width: 32px;\n",
              "    }\n",
              "\n",
              "    .colab-df-convert:hover {\n",
              "      background-color: #E2EBFA;\n",
              "      box-shadow: 0px 1px 2px rgba(60, 64, 67, 0.3), 0px 1px 3px 1px rgba(60, 64, 67, 0.15);\n",
              "      fill: #174EA6;\n",
              "    }\n",
              "\n",
              "    .colab-df-buttons div {\n",
              "      margin-bottom: 4px;\n",
              "    }\n",
              "\n",
              "    [theme=dark] .colab-df-convert {\n",
              "      background-color: #3B4455;\n",
              "      fill: #D2E3FC;\n",
              "    }\n",
              "\n",
              "    [theme=dark] .colab-df-convert:hover {\n",
              "      background-color: #434B5C;\n",
              "      box-shadow: 0px 1px 3px 1px rgba(0, 0, 0, 0.15);\n",
              "      filter: drop-shadow(0px 1px 2px rgba(0, 0, 0, 0.3));\n",
              "      fill: #FFFFFF;\n",
              "    }\n",
              "  </style>\n",
              "\n",
              "    <script>\n",
              "      const buttonEl =\n",
              "        document.querySelector('#df-ac568135-5e88-415a-91d5-aa2b6cb2a0bb button.colab-df-convert');\n",
              "      buttonEl.style.display =\n",
              "        google.colab.kernel.accessAllowed ? 'block' : 'none';\n",
              "\n",
              "      async function convertToInteractive(key) {\n",
              "        const element = document.querySelector('#df-ac568135-5e88-415a-91d5-aa2b6cb2a0bb');\n",
              "        const dataTable =\n",
              "          await google.colab.kernel.invokeFunction('convertToInteractive',\n",
              "                                                    [key], {});\n",
              "        if (!dataTable) return;\n",
              "\n",
              "        const docLinkHtml = 'Like what you see? Visit the ' +\n",
              "          '<a target=\"_blank\" href=https://colab.research.google.com/notebooks/data_table.ipynb>data table notebook</a>'\n",
              "          + ' to learn more about interactive tables.';\n",
              "        element.innerHTML = '';\n",
              "        dataTable['output_type'] = 'display_data';\n",
              "        await google.colab.output.renderOutput(dataTable, element);\n",
              "        const docLink = document.createElement('div');\n",
              "        docLink.innerHTML = docLinkHtml;\n",
              "        element.appendChild(docLink);\n",
              "      }\n",
              "    </script>\n",
              "  </div>\n",
              "\n",
              "\n",
              "<div id=\"df-5ce9abb7-e0ca-4976-9497-e31794701cbc\">\n",
              "  <button class=\"colab-df-quickchart\" onclick=\"quickchart('df-5ce9abb7-e0ca-4976-9497-e31794701cbc')\"\n",
              "            title=\"Suggest charts\"\n",
              "            style=\"display:none;\">\n",
              "\n",
              "<svg xmlns=\"http://www.w3.org/2000/svg\" height=\"24px\"viewBox=\"0 0 24 24\"\n",
              "     width=\"24px\">\n",
              "    <g>\n",
              "        <path d=\"M19 3H5c-1.1 0-2 .9-2 2v14c0 1.1.9 2 2 2h14c1.1 0 2-.9 2-2V5c0-1.1-.9-2-2-2zM9 17H7v-7h2v7zm4 0h-2V7h2v10zm4 0h-2v-4h2v4z\"/>\n",
              "    </g>\n",
              "</svg>\n",
              "  </button>\n",
              "\n",
              "<style>\n",
              "  .colab-df-quickchart {\n",
              "      --bg-color: #E8F0FE;\n",
              "      --fill-color: #1967D2;\n",
              "      --hover-bg-color: #E2EBFA;\n",
              "      --hover-fill-color: #174EA6;\n",
              "      --disabled-fill-color: #AAA;\n",
              "      --disabled-bg-color: #DDD;\n",
              "  }\n",
              "\n",
              "  [theme=dark] .colab-df-quickchart {\n",
              "      --bg-color: #3B4455;\n",
              "      --fill-color: #D2E3FC;\n",
              "      --hover-bg-color: #434B5C;\n",
              "      --hover-fill-color: #FFFFFF;\n",
              "      --disabled-bg-color: #3B4455;\n",
              "      --disabled-fill-color: #666;\n",
              "  }\n",
              "\n",
              "  .colab-df-quickchart {\n",
              "    background-color: var(--bg-color);\n",
              "    border: none;\n",
              "    border-radius: 50%;\n",
              "    cursor: pointer;\n",
              "    display: none;\n",
              "    fill: var(--fill-color);\n",
              "    height: 32px;\n",
              "    padding: 0;\n",
              "    width: 32px;\n",
              "  }\n",
              "\n",
              "  .colab-df-quickchart:hover {\n",
              "    background-color: var(--hover-bg-color);\n",
              "    box-shadow: 0 1px 2px rgba(60, 64, 67, 0.3), 0 1px 3px 1px rgba(60, 64, 67, 0.15);\n",
              "    fill: var(--button-hover-fill-color);\n",
              "  }\n",
              "\n",
              "  .colab-df-quickchart-complete:disabled,\n",
              "  .colab-df-quickchart-complete:disabled:hover {\n",
              "    background-color: var(--disabled-bg-color);\n",
              "    fill: var(--disabled-fill-color);\n",
              "    box-shadow: none;\n",
              "  }\n",
              "\n",
              "  .colab-df-spinner {\n",
              "    border: 2px solid var(--fill-color);\n",
              "    border-color: transparent;\n",
              "    border-bottom-color: var(--fill-color);\n",
              "    animation:\n",
              "      spin 1s steps(1) infinite;\n",
              "  }\n",
              "\n",
              "  @keyframes spin {\n",
              "    0% {\n",
              "      border-color: transparent;\n",
              "      border-bottom-color: var(--fill-color);\n",
              "      border-left-color: var(--fill-color);\n",
              "    }\n",
              "    20% {\n",
              "      border-color: transparent;\n",
              "      border-left-color: var(--fill-color);\n",
              "      border-top-color: var(--fill-color);\n",
              "    }\n",
              "    30% {\n",
              "      border-color: transparent;\n",
              "      border-left-color: var(--fill-color);\n",
              "      border-top-color: var(--fill-color);\n",
              "      border-right-color: var(--fill-color);\n",
              "    }\n",
              "    40% {\n",
              "      border-color: transparent;\n",
              "      border-right-color: var(--fill-color);\n",
              "      border-top-color: var(--fill-color);\n",
              "    }\n",
              "    60% {\n",
              "      border-color: transparent;\n",
              "      border-right-color: var(--fill-color);\n",
              "    }\n",
              "    80% {\n",
              "      border-color: transparent;\n",
              "      border-right-color: var(--fill-color);\n",
              "      border-bottom-color: var(--fill-color);\n",
              "    }\n",
              "    90% {\n",
              "      border-color: transparent;\n",
              "      border-bottom-color: var(--fill-color);\n",
              "    }\n",
              "  }\n",
              "</style>\n",
              "\n",
              "  <script>\n",
              "    async function quickchart(key) {\n",
              "      const quickchartButtonEl =\n",
              "        document.querySelector('#' + key + ' button');\n",
              "      quickchartButtonEl.disabled = true;  // To prevent multiple clicks.\n",
              "      quickchartButtonEl.classList.add('colab-df-spinner');\n",
              "      try {\n",
              "        const charts = await google.colab.kernel.invokeFunction(\n",
              "            'suggestCharts', [key], {});\n",
              "      } catch (error) {\n",
              "        console.error('Error during call to suggestCharts:', error);\n",
              "      }\n",
              "      quickchartButtonEl.classList.remove('colab-df-spinner');\n",
              "      quickchartButtonEl.classList.add('colab-df-quickchart-complete');\n",
              "    }\n",
              "    (() => {\n",
              "      let quickchartButtonEl =\n",
              "        document.querySelector('#df-5ce9abb7-e0ca-4976-9497-e31794701cbc button');\n",
              "      quickchartButtonEl.style.display =\n",
              "        google.colab.kernel.accessAllowed ? 'block' : 'none';\n",
              "    })();\n",
              "  </script>\n",
              "</div>\n",
              "\n",
              "    </div>\n",
              "  </div>\n"
            ],
            "application/vnd.google.colaboratory.intrinsic+json": {
              "type": "dataframe",
              "variable_name": "df",
              "summary": "{\n  \"name\": \"df\",\n  \"rows\": 3394,\n  \"fields\": [\n    {\n      \"column\": \"Timestamp\",\n      \"properties\": {\n        \"dtype\": \"date\",\n        \"min\": \"2013-07-23 00:00:00\",\n        \"max\": \"2024-06-29 00:00:00\",\n        \"num_unique_values\": 3394,\n        \"samples\": [\n          \"2014-06-30 00:00:00\",\n          \"2016-10-19 00:00:00\",\n          \"2020-05-04 00:00:00\"\n        ],\n        \"semantic_type\": \"\",\n        \"description\": \"\"\n      }\n    },\n    {\n      \"column\": \"Gold_price\",\n      \"properties\": {\n        \"dtype\": \"number\",\n        \"std\": 5563,\n        \"min\": 17850,\n        \"max\": 41700,\n        \"num_unique_values\": 366,\n        \"samples\": [\n          28450,\n          19250,\n          20550\n        ],\n        \"semantic_type\": \"\",\n        \"description\": \"\"\n      }\n    },\n    {\n      \"column\": \"Exchange_mid_rate\",\n      \"properties\": {\n        \"dtype\": \"number\",\n        \"std\": 1.8795093598099133,\n        \"min\": 29.804,\n        \"max\": 38.338,\n        \"num_unique_values\": 2611,\n        \"samples\": [\n          36.3964,\n          34.926,\n          32.8637\n        ],\n        \"semantic_type\": \"\",\n        \"description\": \"\"\n      }\n    },\n    {\n      \"column\": \"price_index\",\n      \"properties\": {\n        \"dtype\": \"number\",\n        \"std\": 3.815625177409974,\n        \"min\": 96.6,\n        \"max\": 108.84,\n        \"num_unique_values\": 122,\n        \"samples\": [\n          97.17,\n          98.76,\n          98.75\n        ],\n        \"semantic_type\": \"\",\n        \"description\": \"\"\n      }\n    },\n    {\n      \"column\": \"Xau_Price\",\n      \"properties\": {\n        \"dtype\": \"number\",\n        \"std\": 323.0589917304872,\n        \"min\": 1051.74,\n        \"max\": 2425.12,\n        \"num_unique_values\": 2740,\n        \"samples\": [\n          1219.2,\n          1229.7,\n          1233.59\n        ],\n        \"semantic_type\": \"\",\n        \"description\": \"\"\n      }\n    }\n  ]\n}"
            }
          },
          "metadata": {},
          "execution_count": 7
        }
      ],
      "source": [
        "df.head()"
      ]
    },
    {
      "cell_type": "code",
      "execution_count": 8,
      "id": "750dae9a",
      "metadata": {
        "colab": {
          "base_uri": "https://localhost:8080/",
          "height": 237
        },
        "id": "750dae9a",
        "outputId": "50eabd00-f96b-45ec-93c9-0da02232a4cc"
      },
      "outputs": [
        {
          "output_type": "execute_result",
          "data": {
            "text/plain": [
              "            Gold_price  Exchange_mid_rate  price_index  Xau_Price\n",
              "Timestamp                                                        \n",
              "2024-06-25       40500            36.6043        108.5    2319.01\n",
              "2024-06-26       40400            36.7679        108.5    2297.91\n",
              "2024-06-27       40350            36.9374        108.5    2327.45\n",
              "2024-06-28       40500            36.8497        108.5    2325.71\n",
              "2024-06-29       40500            36.8497        108.5    2325.71"
            ],
            "text/html": [
              "\n",
              "  <div id=\"df-8f10633c-d110-4250-88c3-4cb2f283f52f\" class=\"colab-df-container\">\n",
              "    <div>\n",
              "<style scoped>\n",
              "    .dataframe tbody tr th:only-of-type {\n",
              "        vertical-align: middle;\n",
              "    }\n",
              "\n",
              "    .dataframe tbody tr th {\n",
              "        vertical-align: top;\n",
              "    }\n",
              "\n",
              "    .dataframe thead th {\n",
              "        text-align: right;\n",
              "    }\n",
              "</style>\n",
              "<table border=\"1\" class=\"dataframe\">\n",
              "  <thead>\n",
              "    <tr style=\"text-align: right;\">\n",
              "      <th></th>\n",
              "      <th>Gold_price</th>\n",
              "      <th>Exchange_mid_rate</th>\n",
              "      <th>price_index</th>\n",
              "      <th>Xau_Price</th>\n",
              "    </tr>\n",
              "    <tr>\n",
              "      <th>Timestamp</th>\n",
              "      <th></th>\n",
              "      <th></th>\n",
              "      <th></th>\n",
              "      <th></th>\n",
              "    </tr>\n",
              "  </thead>\n",
              "  <tbody>\n",
              "    <tr>\n",
              "      <th>2024-06-25</th>\n",
              "      <td>40500</td>\n",
              "      <td>36.6043</td>\n",
              "      <td>108.5</td>\n",
              "      <td>2319.01</td>\n",
              "    </tr>\n",
              "    <tr>\n",
              "      <th>2024-06-26</th>\n",
              "      <td>40400</td>\n",
              "      <td>36.7679</td>\n",
              "      <td>108.5</td>\n",
              "      <td>2297.91</td>\n",
              "    </tr>\n",
              "    <tr>\n",
              "      <th>2024-06-27</th>\n",
              "      <td>40350</td>\n",
              "      <td>36.9374</td>\n",
              "      <td>108.5</td>\n",
              "      <td>2327.45</td>\n",
              "    </tr>\n",
              "    <tr>\n",
              "      <th>2024-06-28</th>\n",
              "      <td>40500</td>\n",
              "      <td>36.8497</td>\n",
              "      <td>108.5</td>\n",
              "      <td>2325.71</td>\n",
              "    </tr>\n",
              "    <tr>\n",
              "      <th>2024-06-29</th>\n",
              "      <td>40500</td>\n",
              "      <td>36.8497</td>\n",
              "      <td>108.5</td>\n",
              "      <td>2325.71</td>\n",
              "    </tr>\n",
              "  </tbody>\n",
              "</table>\n",
              "</div>\n",
              "    <div class=\"colab-df-buttons\">\n",
              "\n",
              "  <div class=\"colab-df-container\">\n",
              "    <button class=\"colab-df-convert\" onclick=\"convertToInteractive('df-8f10633c-d110-4250-88c3-4cb2f283f52f')\"\n",
              "            title=\"Convert this dataframe to an interactive table.\"\n",
              "            style=\"display:none;\">\n",
              "\n",
              "  <svg xmlns=\"http://www.w3.org/2000/svg\" height=\"24px\" viewBox=\"0 -960 960 960\">\n",
              "    <path d=\"M120-120v-720h720v720H120Zm60-500h600v-160H180v160Zm220 220h160v-160H400v160Zm0 220h160v-160H400v160ZM180-400h160v-160H180v160Zm440 0h160v-160H620v160ZM180-180h160v-160H180v160Zm440 0h160v-160H620v160Z\"/>\n",
              "  </svg>\n",
              "    </button>\n",
              "\n",
              "  <style>\n",
              "    .colab-df-container {\n",
              "      display:flex;\n",
              "      gap: 12px;\n",
              "    }\n",
              "\n",
              "    .colab-df-convert {\n",
              "      background-color: #E8F0FE;\n",
              "      border: none;\n",
              "      border-radius: 50%;\n",
              "      cursor: pointer;\n",
              "      display: none;\n",
              "      fill: #1967D2;\n",
              "      height: 32px;\n",
              "      padding: 0 0 0 0;\n",
              "      width: 32px;\n",
              "    }\n",
              "\n",
              "    .colab-df-convert:hover {\n",
              "      background-color: #E2EBFA;\n",
              "      box-shadow: 0px 1px 2px rgba(60, 64, 67, 0.3), 0px 1px 3px 1px rgba(60, 64, 67, 0.15);\n",
              "      fill: #174EA6;\n",
              "    }\n",
              "\n",
              "    .colab-df-buttons div {\n",
              "      margin-bottom: 4px;\n",
              "    }\n",
              "\n",
              "    [theme=dark] .colab-df-convert {\n",
              "      background-color: #3B4455;\n",
              "      fill: #D2E3FC;\n",
              "    }\n",
              "\n",
              "    [theme=dark] .colab-df-convert:hover {\n",
              "      background-color: #434B5C;\n",
              "      box-shadow: 0px 1px 3px 1px rgba(0, 0, 0, 0.15);\n",
              "      filter: drop-shadow(0px 1px 2px rgba(0, 0, 0, 0.3));\n",
              "      fill: #FFFFFF;\n",
              "    }\n",
              "  </style>\n",
              "\n",
              "    <script>\n",
              "      const buttonEl =\n",
              "        document.querySelector('#df-8f10633c-d110-4250-88c3-4cb2f283f52f button.colab-df-convert');\n",
              "      buttonEl.style.display =\n",
              "        google.colab.kernel.accessAllowed ? 'block' : 'none';\n",
              "\n",
              "      async function convertToInteractive(key) {\n",
              "        const element = document.querySelector('#df-8f10633c-d110-4250-88c3-4cb2f283f52f');\n",
              "        const dataTable =\n",
              "          await google.colab.kernel.invokeFunction('convertToInteractive',\n",
              "                                                    [key], {});\n",
              "        if (!dataTable) return;\n",
              "\n",
              "        const docLinkHtml = 'Like what you see? Visit the ' +\n",
              "          '<a target=\"_blank\" href=https://colab.research.google.com/notebooks/data_table.ipynb>data table notebook</a>'\n",
              "          + ' to learn more about interactive tables.';\n",
              "        element.innerHTML = '';\n",
              "        dataTable['output_type'] = 'display_data';\n",
              "        await google.colab.output.renderOutput(dataTable, element);\n",
              "        const docLink = document.createElement('div');\n",
              "        docLink.innerHTML = docLinkHtml;\n",
              "        element.appendChild(docLink);\n",
              "      }\n",
              "    </script>\n",
              "  </div>\n",
              "\n",
              "\n",
              "<div id=\"df-fd70831f-6785-4c52-8157-2d68c149a44d\">\n",
              "  <button class=\"colab-df-quickchart\" onclick=\"quickchart('df-fd70831f-6785-4c52-8157-2d68c149a44d')\"\n",
              "            title=\"Suggest charts\"\n",
              "            style=\"display:none;\">\n",
              "\n",
              "<svg xmlns=\"http://www.w3.org/2000/svg\" height=\"24px\"viewBox=\"0 0 24 24\"\n",
              "     width=\"24px\">\n",
              "    <g>\n",
              "        <path d=\"M19 3H5c-1.1 0-2 .9-2 2v14c0 1.1.9 2 2 2h14c1.1 0 2-.9 2-2V5c0-1.1-.9-2-2-2zM9 17H7v-7h2v7zm4 0h-2V7h2v10zm4 0h-2v-4h2v4z\"/>\n",
              "    </g>\n",
              "</svg>\n",
              "  </button>\n",
              "\n",
              "<style>\n",
              "  .colab-df-quickchart {\n",
              "      --bg-color: #E8F0FE;\n",
              "      --fill-color: #1967D2;\n",
              "      --hover-bg-color: #E2EBFA;\n",
              "      --hover-fill-color: #174EA6;\n",
              "      --disabled-fill-color: #AAA;\n",
              "      --disabled-bg-color: #DDD;\n",
              "  }\n",
              "\n",
              "  [theme=dark] .colab-df-quickchart {\n",
              "      --bg-color: #3B4455;\n",
              "      --fill-color: #D2E3FC;\n",
              "      --hover-bg-color: #434B5C;\n",
              "      --hover-fill-color: #FFFFFF;\n",
              "      --disabled-bg-color: #3B4455;\n",
              "      --disabled-fill-color: #666;\n",
              "  }\n",
              "\n",
              "  .colab-df-quickchart {\n",
              "    background-color: var(--bg-color);\n",
              "    border: none;\n",
              "    border-radius: 50%;\n",
              "    cursor: pointer;\n",
              "    display: none;\n",
              "    fill: var(--fill-color);\n",
              "    height: 32px;\n",
              "    padding: 0;\n",
              "    width: 32px;\n",
              "  }\n",
              "\n",
              "  .colab-df-quickchart:hover {\n",
              "    background-color: var(--hover-bg-color);\n",
              "    box-shadow: 0 1px 2px rgba(60, 64, 67, 0.3), 0 1px 3px 1px rgba(60, 64, 67, 0.15);\n",
              "    fill: var(--button-hover-fill-color);\n",
              "  }\n",
              "\n",
              "  .colab-df-quickchart-complete:disabled,\n",
              "  .colab-df-quickchart-complete:disabled:hover {\n",
              "    background-color: var(--disabled-bg-color);\n",
              "    fill: var(--disabled-fill-color);\n",
              "    box-shadow: none;\n",
              "  }\n",
              "\n",
              "  .colab-df-spinner {\n",
              "    border: 2px solid var(--fill-color);\n",
              "    border-color: transparent;\n",
              "    border-bottom-color: var(--fill-color);\n",
              "    animation:\n",
              "      spin 1s steps(1) infinite;\n",
              "  }\n",
              "\n",
              "  @keyframes spin {\n",
              "    0% {\n",
              "      border-color: transparent;\n",
              "      border-bottom-color: var(--fill-color);\n",
              "      border-left-color: var(--fill-color);\n",
              "    }\n",
              "    20% {\n",
              "      border-color: transparent;\n",
              "      border-left-color: var(--fill-color);\n",
              "      border-top-color: var(--fill-color);\n",
              "    }\n",
              "    30% {\n",
              "      border-color: transparent;\n",
              "      border-left-color: var(--fill-color);\n",
              "      border-top-color: var(--fill-color);\n",
              "      border-right-color: var(--fill-color);\n",
              "    }\n",
              "    40% {\n",
              "      border-color: transparent;\n",
              "      border-right-color: var(--fill-color);\n",
              "      border-top-color: var(--fill-color);\n",
              "    }\n",
              "    60% {\n",
              "      border-color: transparent;\n",
              "      border-right-color: var(--fill-color);\n",
              "    }\n",
              "    80% {\n",
              "      border-color: transparent;\n",
              "      border-right-color: var(--fill-color);\n",
              "      border-bottom-color: var(--fill-color);\n",
              "    }\n",
              "    90% {\n",
              "      border-color: transparent;\n",
              "      border-bottom-color: var(--fill-color);\n",
              "    }\n",
              "  }\n",
              "</style>\n",
              "\n",
              "  <script>\n",
              "    async function quickchart(key) {\n",
              "      const quickchartButtonEl =\n",
              "        document.querySelector('#' + key + ' button');\n",
              "      quickchartButtonEl.disabled = true;  // To prevent multiple clicks.\n",
              "      quickchartButtonEl.classList.add('colab-df-spinner');\n",
              "      try {\n",
              "        const charts = await google.colab.kernel.invokeFunction(\n",
              "            'suggestCharts', [key], {});\n",
              "      } catch (error) {\n",
              "        console.error('Error during call to suggestCharts:', error);\n",
              "      }\n",
              "      quickchartButtonEl.classList.remove('colab-df-spinner');\n",
              "      quickchartButtonEl.classList.add('colab-df-quickchart-complete');\n",
              "    }\n",
              "    (() => {\n",
              "      let quickchartButtonEl =\n",
              "        document.querySelector('#df-fd70831f-6785-4c52-8157-2d68c149a44d button');\n",
              "      quickchartButtonEl.style.display =\n",
              "        google.colab.kernel.accessAllowed ? 'block' : 'none';\n",
              "    })();\n",
              "  </script>\n",
              "</div>\n",
              "\n",
              "    </div>\n",
              "  </div>\n"
            ],
            "application/vnd.google.colaboratory.intrinsic+json": {
              "type": "dataframe",
              "summary": "{\n  \"name\": \"df\",\n  \"rows\": 5,\n  \"fields\": [\n    {\n      \"column\": \"Timestamp\",\n      \"properties\": {\n        \"dtype\": \"date\",\n        \"min\": \"2024-06-25 00:00:00\",\n        \"max\": \"2024-06-29 00:00:00\",\n        \"num_unique_values\": 5,\n        \"samples\": [\n          \"2024-06-26 00:00:00\",\n          \"2024-06-29 00:00:00\",\n          \"2024-06-27 00:00:00\"\n        ],\n        \"semantic_type\": \"\",\n        \"description\": \"\"\n      }\n    },\n    {\n      \"column\": \"Gold_price\",\n      \"properties\": {\n        \"dtype\": \"number\",\n        \"std\": 70,\n        \"min\": 40350,\n        \"max\": 40500,\n        \"num_unique_values\": 3,\n        \"samples\": [\n          40500,\n          40400,\n          40350\n        ],\n        \"semantic_type\": \"\",\n        \"description\": \"\"\n      }\n    },\n    {\n      \"column\": \"Exchange_mid_rate\",\n      \"properties\": {\n        \"dtype\": \"number\",\n        \"std\": 0.12563005213721573,\n        \"min\": 36.6043,\n        \"max\": 36.9374,\n        \"num_unique_values\": 4,\n        \"samples\": [\n          36.7679,\n          36.8497,\n          36.6043\n        ],\n        \"semantic_type\": \"\",\n        \"description\": \"\"\n      }\n    },\n    {\n      \"column\": \"price_index\",\n      \"properties\": {\n        \"dtype\": \"number\",\n        \"std\": 0.0,\n        \"min\": 108.5,\n        \"max\": 108.5,\n        \"num_unique_values\": 1,\n        \"samples\": [\n          108.5\n        ],\n        \"semantic_type\": \"\",\n        \"description\": \"\"\n      }\n    },\n    {\n      \"column\": \"Xau_Price\",\n      \"properties\": {\n        \"dtype\": \"number\",\n        \"std\": 12.309692116377283,\n        \"min\": 2297.91,\n        \"max\": 2327.45,\n        \"num_unique_values\": 4,\n        \"samples\": [\n          2297.91\n        ],\n        \"semantic_type\": \"\",\n        \"description\": \"\"\n      }\n    }\n  ]\n}"
            }
          },
          "metadata": {},
          "execution_count": 8
        }
      ],
      "source": [
        "df.tail()"
      ]
    },
    {
      "cell_type": "code",
      "execution_count": 9,
      "id": "9f685196",
      "metadata": {
        "id": "9f685196"
      },
      "outputs": [],
      "source": [
        "test_split=round(len(df)*0.2)"
      ]
    },
    {
      "cell_type": "code",
      "source": [
        "scaler = MinMaxScaler(feature_range=(0,1))\n",
        "df_scaled = scaler.fit_transform(df)"
      ],
      "metadata": {
        "id": "vy4Kez6_xvV9"
      },
      "id": "vy4Kez6_xvV9",
      "execution_count": 10,
      "outputs": []
    },
    {
      "cell_type": "code",
      "source": [
        "df_scaled.shape"
      ],
      "metadata": {
        "colab": {
          "base_uri": "https://localhost:8080/"
        },
        "id": "wO4hRYciBPjq",
        "outputId": "8fead949-7a8d-40a9-8b70-1d2475d498ed"
      },
      "id": "wO4hRYciBPjq",
      "execution_count": 11,
      "outputs": [
        {
          "output_type": "execute_result",
          "data": {
            "text/plain": [
              "(3394, 4)"
            ]
          },
          "metadata": {},
          "execution_count": 11
        }
      ]
    },
    {
      "cell_type": "code",
      "execution_count": 12,
      "id": "c435d2e4",
      "metadata": {
        "colab": {
          "base_uri": "https://localhost:8080/"
        },
        "id": "c435d2e4",
        "outputId": "f4bb3170-116d-40b1-f533-bff030eb6934"
      },
      "outputs": [
        {
          "output_type": "execute_result",
          "data": {
            "text/plain": [
              "679"
            ]
          },
          "metadata": {},
          "execution_count": 12
        }
      ],
      "source": [
        "test_split"
      ]
    },
    {
      "cell_type": "code",
      "execution_count": 13,
      "id": "6815e6cf",
      "metadata": {
        "id": "6815e6cf"
      },
      "outputs": [],
      "source": [
        "df_for_training=df_scaled[:-test_split]\n",
        "df_for_testing=df_scaled[-test_split:]"
      ]
    },
    {
      "cell_type": "code",
      "execution_count": 14,
      "id": "164f3e06",
      "metadata": {
        "colab": {
          "base_uri": "https://localhost:8080/"
        },
        "id": "164f3e06",
        "outputId": "a0f56174-b814-44c5-c833-f96dc422e0ba"
      },
      "outputs": [
        {
          "output_type": "stream",
          "name": "stdout",
          "text": [
            "(2715, 4)\n",
            "(679, 4)\n"
          ]
        }
      ],
      "source": [
        "print(df_for_training.shape)\n",
        "print(df_for_testing.shape)"
      ]
    },
    {
      "cell_type": "code",
      "source": [
        "df_scaled[0]"
      ],
      "metadata": {
        "colab": {
          "base_uri": "https://localhost:8080/"
        },
        "id": "YBwv1Z0CBpiQ",
        "outputId": "cf9d4055-e25a-42ca-e032-a0b880535166"
      },
      "id": "YBwv1Z0CBpiQ",
      "execution_count": 15,
      "outputs": [
        {
          "output_type": "execute_result",
          "data": {
            "text/plain": [
              "array([0.06918239, 0.13044293, 0.00081699, 0.21578878])"
            ]
          },
          "metadata": {},
          "execution_count": 15
        }
      ]
    },
    {
      "cell_type": "code",
      "execution_count": 16,
      "id": "Hs7fNN5XvLD0",
      "metadata": {
        "colab": {
          "base_uri": "https://localhost:8080/"
        },
        "id": "Hs7fNN5XvLD0",
        "outputId": "55d32190-9673-4c48-eeeb-011b9661a6f6"
      },
      "outputs": [
        {
          "output_type": "execute_result",
          "data": {
            "text/plain": [
              "array([0.54507338, 0.5321303 , 0.69852941, 0.61502279])"
            ]
          },
          "metadata": {},
          "execution_count": 16
        }
      ],
      "source": [
        "df_for_testing[0]"
      ]
    },
    {
      "cell_type": "code",
      "execution_count": 17,
      "id": "b6a58026",
      "metadata": {
        "id": "b6a58026"
      },
      "outputs": [],
      "source": [
        "def createXY(dataset,n_past,future):\n",
        "    dataX = []\n",
        "    dataY = []\n",
        "    for i in range(n_past, len(dataset)-future):\n",
        "            dataX.append(dataset[i - n_past:i, 0:dataset.shape[1]])\n",
        "            dataY.append(dataset[i-1:i+future-1,0])\n",
        "    return np.array(dataX),np.array(dataY)"
      ]
    },
    {
      "cell_type": "code",
      "execution_count": 18,
      "id": "18b62d65",
      "metadata": {
        "id": "18b62d65"
      },
      "outputs": [],
      "source": [
        "trainX,trainY=createXY(df_for_training,30,5)"
      ]
    },
    {
      "cell_type": "code",
      "execution_count": 19,
      "id": "8d694c12",
      "metadata": {
        "colab": {
          "base_uri": "https://localhost:8080/"
        },
        "id": "8d694c12",
        "outputId": "e5183300-b12d-476b-d158-a6995853d9ab"
      },
      "outputs": [
        {
          "output_type": "execute_result",
          "data": {
            "text/plain": [
              "(2680, 30, 4)"
            ]
          },
          "metadata": {},
          "execution_count": 19
        }
      ],
      "source": [
        "trainX.shape"
      ]
    },
    {
      "cell_type": "code",
      "execution_count": null,
      "id": "2795bf2a",
      "metadata": {
        "id": "2795bf2a"
      },
      "outputs": [],
      "source": []
    },
    {
      "cell_type": "code",
      "execution_count": 20,
      "id": "184bfdb6",
      "metadata": {
        "id": "184bfdb6"
      },
      "outputs": [],
      "source": [
        "testX,testY=createXY(df_for_testing,30,5)"
      ]
    },
    {
      "cell_type": "code",
      "execution_count": 21,
      "id": "UN11pzw8ypa5",
      "metadata": {
        "colab": {
          "base_uri": "https://localhost:8080/"
        },
        "id": "UN11pzw8ypa5",
        "outputId": "df53337e-1ed8-4ac9-eb52-7b79902d19bc"
      },
      "outputs": [
        {
          "output_type": "execute_result",
          "data": {
            "text/plain": [
              "(644, 30, 4)"
            ]
          },
          "metadata": {},
          "execution_count": 21
        }
      ],
      "source": [
        "testX.shape"
      ]
    },
    {
      "cell_type": "code",
      "execution_count": 22,
      "id": "5e77d396",
      "metadata": {
        "colab": {
          "base_uri": "https://localhost:8080/"
        },
        "id": "5e77d396",
        "outputId": "96510f56-2533-450f-e312-5717003597f0"
      },
      "outputs": [
        {
          "output_type": "execute_result",
          "data": {
            "text/plain": [
              "array([[0.06918239, 0.13044293, 0.00081699, 0.21578878],\n",
              "       [0.0754717 , 0.12981017, 0.00081699, 0.19627488],\n",
              "       [0.06498952, 0.14900398, 0.00081699, 0.2052673 ],\n",
              "       [0.0754717 , 0.15179283, 0.00081699, 0.20544933],\n",
              "       [0.0754717 , 0.15179283, 0.00081699, 0.20544933],\n",
              "       [0.0754717 , 0.15921022, 0.00081699, 0.20086211],\n",
              "       [0.07337526, 0.16917038, 0.00081699, 0.20064367],\n",
              "       [0.08176101, 0.18115772, 0.00081699, 0.19758552],\n",
              "       [0.0754717 , 0.17153738, 0.        , 0.18728247],\n",
              "       [0.05660377, 0.18576283, 0.        , 0.18950327],\n",
              "       [0.06918239, 0.18576283, 0.        , 0.18950327],\n",
              "       [0.06918239, 0.17709163, 0.        , 0.18364182],\n",
              "       [0.06079665, 0.18527068, 0.        , 0.16758654],\n",
              "       [0.05031447, 0.19177408, 0.        , 0.1718461 ],\n",
              "       [0.05450734, 0.17816967, 0.        , 0.18950327],\n",
              "       [0.06498952, 0.16511601, 0.        , 0.1913236 ],\n",
              "       [0.06708595, 0.16511601, 0.        , 0.1913236 ],\n",
              "       [0.07337526, 0.16511601, 0.        , 0.20726966],\n",
              "       [0.07966457, 0.17037731, 0.        , 0.19627488],\n",
              "       [0.0754717 , 0.17616592, 0.        , 0.2063959 ],\n",
              "       [0.08176101, 0.16873682, 0.        , 0.22885873],\n",
              "       [0.09853249, 0.17231076, 0.        , 0.23639488],\n",
              "       [0.1048218 , 0.17231076, 0.        , 0.23639488],\n",
              "       [0.10901468, 0.17771268, 0.        , 0.22880776],\n",
              "       [0.10691824, 0.21199906, 0.        , 0.23258676],\n",
              "       [0.11320755, 0.22764237, 0.        , 0.22907717],\n",
              "       [0.12368973, 0.26720178, 0.        , 0.23599441],\n",
              "       [0.12368973, 0.25345676, 0.        , 0.25128515],\n",
              "       [0.13417191, 0.25345676, 0.        , 0.25128515],\n",
              "       [0.13836478, 0.24818374, 0.        , 0.2571466 ]])"
            ]
          },
          "metadata": {},
          "execution_count": 22
        }
      ],
      "source": [
        "trainX[0]"
      ]
    },
    {
      "cell_type": "code",
      "execution_count": 23,
      "id": "bdaf6a49",
      "metadata": {
        "colab": {
          "base_uri": "https://localhost:8080/"
        },
        "id": "bdaf6a49",
        "outputId": "3778f8d2-5e0a-4815-8652-63700244ad1c"
      },
      "outputs": [
        {
          "output_type": "stream",
          "name": "stdout",
          "text": [
            "trainX Shape--  (2680, 30, 4)\n",
            "trainY Shape--  (2680, 5)\n"
          ]
        }
      ],
      "source": [
        "print(\"trainX Shape-- \",trainX.shape)\n",
        "print(\"trainY Shape-- \",trainY.shape)"
      ]
    },
    {
      "cell_type": "code",
      "execution_count": 24,
      "id": "0c78e7db",
      "metadata": {
        "colab": {
          "base_uri": "https://localhost:8080/"
        },
        "id": "0c78e7db",
        "outputId": "510b75d0-49e4-43f5-cdd3-946196e7c0e7"
      },
      "outputs": [
        {
          "output_type": "stream",
          "name": "stdout",
          "text": [
            "testX Shape--  (644, 30, 4)\n",
            "testY Shape--  (644, 5)\n"
          ]
        }
      ],
      "source": [
        "print(\"testX Shape-- \",testX.shape)\n",
        "print(\"testY Shape-- \",testY.shape)"
      ]
    },
    {
      "cell_type": "code",
      "execution_count": 25,
      "id": "cbf9d2df",
      "metadata": {
        "colab": {
          "base_uri": "https://localhost:8080/"
        },
        "id": "cbf9d2df",
        "outputId": "50dd0928-7b81-4a3e-8458-a077b008ae14"
      },
      "outputs": [
        {
          "output_type": "stream",
          "name": "stdout",
          "text": [
            "trainX[0]-- \n",
            " [[0.06918239 0.13044293 0.00081699 0.21578878]\n",
            " [0.0754717  0.12981017 0.00081699 0.19627488]\n",
            " [0.06498952 0.14900398 0.00081699 0.2052673 ]\n",
            " [0.0754717  0.15179283 0.00081699 0.20544933]\n",
            " [0.0754717  0.15179283 0.00081699 0.20544933]\n",
            " [0.0754717  0.15921022 0.00081699 0.20086211]\n",
            " [0.07337526 0.16917038 0.00081699 0.20064367]\n",
            " [0.08176101 0.18115772 0.00081699 0.19758552]\n",
            " [0.0754717  0.17153738 0.         0.18728247]\n",
            " [0.05660377 0.18576283 0.         0.18950327]\n",
            " [0.06918239 0.18576283 0.         0.18950327]\n",
            " [0.06918239 0.17709163 0.         0.18364182]\n",
            " [0.06079665 0.18527068 0.         0.16758654]\n",
            " [0.05031447 0.19177408 0.         0.1718461 ]\n",
            " [0.05450734 0.17816967 0.         0.18950327]\n",
            " [0.06498952 0.16511601 0.         0.1913236 ]\n",
            " [0.06708595 0.16511601 0.         0.1913236 ]\n",
            " [0.07337526 0.16511601 0.         0.20726966]\n",
            " [0.07966457 0.17037731 0.         0.19627488]\n",
            " [0.0754717  0.17616592 0.         0.2063959 ]\n",
            " [0.08176101 0.16873682 0.         0.22885873]\n",
            " [0.09853249 0.17231076 0.         0.23639488]\n",
            " [0.1048218  0.17231076 0.         0.23639488]\n",
            " [0.10901468 0.17771268 0.         0.22880776]\n",
            " [0.10691824 0.21199906 0.         0.23258676]\n",
            " [0.11320755 0.22764237 0.         0.22907717]\n",
            " [0.12368973 0.26720178 0.         0.23599441]\n",
            " [0.12368973 0.25345676 0.         0.25128515]\n",
            " [0.13417191 0.25345676 0.         0.25128515]\n",
            " [0.13836478 0.24818374 0.         0.2571466 ]]\n",
            "\n",
            "trainY[0]--  [0.13836478 0.15303983 0.16561845 0.15303983 0.14255765]\n"
          ]
        }
      ],
      "source": [
        "print(\"trainX[0]-- \\n\",trainX[0])\n",
        "print(\"\\ntrainY[0]-- \",trainY[0])"
      ]
    },
    {
      "cell_type": "code",
      "execution_count": 26,
      "id": "a5892e85",
      "metadata": {
        "colab": {
          "base_uri": "https://localhost:8080/"
        },
        "id": "a5892e85",
        "outputId": "f50589cd-5f3e-430f-ef38-26abefe20c8d"
      },
      "outputs": [
        {
          "output_type": "execute_result",
          "data": {
            "text/plain": [
              "array([0.15303983, 0.16561845, 0.15303983, 0.14255765, 0.14465409])"
            ]
          },
          "metadata": {},
          "execution_count": 26
        }
      ],
      "source": [
        "trainY[1]"
      ]
    },
    {
      "cell_type": "code",
      "execution_count": null,
      "id": "5u4sZfT02Wb1",
      "metadata": {
        "id": "5u4sZfT02Wb1"
      },
      "outputs": [],
      "source": []
    },
    {
      "cell_type": "code",
      "execution_count": 27,
      "id": "713712db",
      "metadata": {
        "colab": {
          "base_uri": "https://localhost:8080/"
        },
        "id": "713712db",
        "outputId": "998c07a1-01de-4b3b-8dce-39d1bc9bbe29"
      },
      "outputs": [
        {
          "output_type": "execute_result",
          "data": {
            "text/plain": [
              "(2680, 5)"
            ]
          },
          "metadata": {},
          "execution_count": 27
        }
      ],
      "source": [
        "trainY.shape"
      ]
    },
    {
      "cell_type": "code",
      "execution_count": null,
      "id": "d165e52b",
      "metadata": {
        "colab": {
          "base_uri": "https://localhost:8080/",
          "height": 344
        },
        "id": "d165e52b",
        "outputId": "e5eb2075-21a2-4a96-b530-e3b987ae1553"
      },
      "outputs": [
        {
          "ename": "ModuleNotFoundError",
          "evalue": "No module named 'keras.wrappers'",
          "output_type": "error",
          "traceback": [
            "\u001b[0;31m---------------------------------------------------------------------------\u001b[0m",
            "\u001b[0;31mModuleNotFoundError\u001b[0m                       Traceback (most recent call last)",
            "\u001b[0;32m<ipython-input-68-98b561a5f0a5>\u001b[0m in \u001b[0;36m<cell line: 1>\u001b[0;34m()\u001b[0m\n\u001b[0;32m----> 1\u001b[0;31m \u001b[0;32mfrom\u001b[0m \u001b[0mkeras\u001b[0m\u001b[0;34m.\u001b[0m\u001b[0mwrappers\u001b[0m\u001b[0;34m.\u001b[0m\u001b[0mscikit_learn\u001b[0m \u001b[0;32mimport\u001b[0m \u001b[0mKerasRegressor\u001b[0m\u001b[0;34m\u001b[0m\u001b[0;34m\u001b[0m\u001b[0m\n\u001b[0m\u001b[1;32m      2\u001b[0m \u001b[0;32mfrom\u001b[0m \u001b[0msklearn\u001b[0m\u001b[0;34m.\u001b[0m\u001b[0mmodel_selection\u001b[0m \u001b[0;32mimport\u001b[0m \u001b[0mGridSearchCV\u001b[0m\u001b[0;34m\u001b[0m\u001b[0;34m\u001b[0m\u001b[0m\n",
            "\u001b[0;31mModuleNotFoundError\u001b[0m: No module named 'keras.wrappers'",
            "",
            "\u001b[0;31m---------------------------------------------------------------------------\u001b[0;32m\nNOTE: If your import is failing due to a missing package, you can\nmanually install dependencies using either !pip or !apt.\n\nTo view examples of installing some common dependencies, click the\n\"Open Examples\" button below.\n\u001b[0;31m---------------------------------------------------------------------------\u001b[0m\n"
          ]
        }
      ],
      "source": [
        "from keras.wrappers.scikit_learn import KerasRegressor\n",
        "from sklearn.model_selection import GridSearchCV"
      ]
    },
    {
      "cell_type": "code",
      "execution_count": 28,
      "id": "eU-hzShs7J2R",
      "metadata": {
        "colab": {
          "base_uri": "https://localhost:8080/"
        },
        "id": "eU-hzShs7J2R",
        "outputId": "b46e3fd9-7778-4c9b-ba83-d4e3bb102078"
      },
      "outputs": [
        {
          "output_type": "execute_result",
          "data": {
            "text/plain": [
              "30"
            ]
          },
          "metadata": {},
          "execution_count": 28
        }
      ],
      "source": [
        "trainX.shape[1]"
      ]
    },
    {
      "cell_type": "code",
      "execution_count": null,
      "id": "4Efvcbll4MKZ",
      "metadata": {
        "colab": {
          "base_uri": "https://localhost:8080/"
        },
        "id": "4Efvcbll4MKZ",
        "outputId": "c88254e6-744d-4bee-cfa9-e1582e9f9356"
      },
      "outputs": [
        {
          "output_type": "stream",
          "name": "stderr",
          "text": [
            "/usr/local/lib/python3.10/dist-packages/keras/src/layers/rnn/rnn.py:204: UserWarning: Do not pass an `input_shape`/`input_dim` argument to a layer. When using Sequential models, prefer using an `Input(shape)` object as the first layer in the model instead.\n",
            "  super().__init__(**kwargs)\n"
          ]
        },
        {
          "output_type": "stream",
          "name": "stdout",
          "text": [
            "Epoch 1/8\n",
            "\u001b[1m84/84\u001b[0m \u001b[32m━━━━━━━━━━━━━━━━━━━━\u001b[0m\u001b[37m\u001b[0m \u001b[1m12s\u001b[0m 63ms/step - loss: 0.0179 - val_loss: 0.0057\n",
            "Epoch 2/8\n",
            "\u001b[1m84/84\u001b[0m \u001b[32m━━━━━━━━━━━━━━━━━━━━\u001b[0m\u001b[37m\u001b[0m \u001b[1m6s\u001b[0m 68ms/step - loss: 0.0030 - val_loss: 0.0058\n",
            "Epoch 3/8\n",
            "\u001b[1m84/84\u001b[0m \u001b[32m━━━━━━━━━━━━━━━━━━━━\u001b[0m\u001b[37m\u001b[0m \u001b[1m4s\u001b[0m 53ms/step - loss: 0.0024 - val_loss: 0.0089\n",
            "Epoch 4/8\n",
            "\u001b[1m84/84\u001b[0m \u001b[32m━━━━━━━━━━━━━━━━━━━━\u001b[0m\u001b[37m\u001b[0m \u001b[1m7s\u001b[0m 72ms/step - loss: 0.0021 - val_loss: 0.0055\n",
            "Epoch 5/8\n",
            "\u001b[1m84/84\u001b[0m \u001b[32m━━━━━━━━━━━━━━━━━━━━\u001b[0m\u001b[37m\u001b[0m \u001b[1m9s\u001b[0m 61ms/step - loss: 0.0020 - val_loss: 0.0097\n",
            "Epoch 6/8\n",
            "\u001b[1m84/84\u001b[0m \u001b[32m━━━━━━━━━━━━━━━━━━━━\u001b[0m\u001b[37m\u001b[0m \u001b[1m10s\u001b[0m 54ms/step - loss: 0.0015 - val_loss: 0.0084\n",
            "Epoch 7/8\n",
            "\u001b[1m84/84\u001b[0m \u001b[32m━━━━━━━━━━━━━━━━━━━━\u001b[0m\u001b[37m\u001b[0m \u001b[1m6s\u001b[0m 63ms/step - loss: 0.0015 - val_loss: 0.0203\n",
            "Epoch 8/8\n",
            "\u001b[1m84/84\u001b[0m \u001b[32m━━━━━━━━━━━━━━━━━━━━\u001b[0m\u001b[37m\u001b[0m \u001b[1m7s\u001b[0m 83ms/step - loss: 0.0018 - val_loss: 0.0059\n",
            "\u001b[1m84/84\u001b[0m \u001b[32m━━━━━━━━━━━━━━━━━━━━\u001b[0m\u001b[37m\u001b[0m \u001b[1m3s\u001b[0m 35ms/step\n"
          ]
        },
        {
          "output_type": "stream",
          "name": "stderr",
          "text": [
            "/usr/local/lib/python3.10/dist-packages/keras/src/layers/rnn/rnn.py:204: UserWarning: Do not pass an `input_shape`/`input_dim` argument to a layer. When using Sequential models, prefer using an `Input(shape)` object as the first layer in the model instead.\n",
            "  super().__init__(**kwargs)\n"
          ]
        },
        {
          "output_type": "stream",
          "name": "stdout",
          "text": [
            "Epoch 1/8\n",
            "\u001b[1m84/84\u001b[0m \u001b[32m━━━━━━━━━━━━━━━━━━━━\u001b[0m\u001b[37m\u001b[0m \u001b[1m16s\u001b[0m 105ms/step - loss: 0.0026 - val_loss: 0.0259\n",
            "Epoch 2/8\n",
            "\u001b[1m84/84\u001b[0m \u001b[32m━━━━━━━━━━━━━━━━━━━━\u001b[0m\u001b[37m\u001b[0m \u001b[1m5s\u001b[0m 65ms/step - loss: 5.9865e-04 - val_loss: 0.0270\n",
            "Epoch 3/8\n",
            "\u001b[1m84/84\u001b[0m \u001b[32m━━━━━━━━━━━━━━━━━━━━\u001b[0m\u001b[37m\u001b[0m \u001b[1m10s\u001b[0m 61ms/step - loss: 4.8456e-04 - val_loss: 0.0182\n",
            "Epoch 4/8\n",
            "\u001b[1m84/84\u001b[0m \u001b[32m━━━━━━━━━━━━━━━━━━━━\u001b[0m\u001b[37m\u001b[0m \u001b[1m11s\u001b[0m 70ms/step - loss: 4.2320e-04 - val_loss: 0.0064\n",
            "Epoch 5/8\n",
            "\u001b[1m84/84\u001b[0m \u001b[32m━━━━━━━━━━━━━━━━━━━━\u001b[0m\u001b[37m\u001b[0m \u001b[1m9s\u001b[0m 54ms/step - loss: 3.6808e-04 - val_loss: 0.0056\n",
            "Epoch 6/8\n",
            "\u001b[1m84/84\u001b[0m \u001b[32m━━━━━━━━━━━━━━━━━━━━\u001b[0m\u001b[37m\u001b[0m \u001b[1m6s\u001b[0m 68ms/step - loss: 2.7878e-04 - val_loss: 0.0028\n",
            "Epoch 7/8\n",
            "\u001b[1m84/84\u001b[0m \u001b[32m━━━━━━━━━━━━━━━━━━━━\u001b[0m\u001b[37m\u001b[0m \u001b[1m5s\u001b[0m 54ms/step - loss: 2.5867e-04 - val_loss: 0.0083\n",
            "Epoch 8/8\n",
            "\u001b[1m84/84\u001b[0m \u001b[32m━━━━━━━━━━━━━━━━━━━━\u001b[0m\u001b[37m\u001b[0m \u001b[1m6s\u001b[0m 68ms/step - loss: 2.2781e-04 - val_loss: 0.0059\n",
            "\u001b[1m84/84\u001b[0m \u001b[32m━━━━━━━━━━━━━━━━━━━━\u001b[0m\u001b[37m\u001b[0m \u001b[1m2s\u001b[0m 19ms/step\n"
          ]
        },
        {
          "output_type": "stream",
          "name": "stderr",
          "text": [
            "/usr/local/lib/python3.10/dist-packages/keras/src/layers/rnn/rnn.py:204: UserWarning: Do not pass an `input_shape`/`input_dim` argument to a layer. When using Sequential models, prefer using an `Input(shape)` object as the first layer in the model instead.\n",
            "  super().__init__(**kwargs)\n"
          ]
        },
        {
          "output_type": "stream",
          "name": "stdout",
          "text": [
            "Epoch 1/8\n",
            "\u001b[1m84/84\u001b[0m \u001b[32m━━━━━━━━━━━━━━━━━━━━\u001b[0m\u001b[37m\u001b[0m \u001b[1m12s\u001b[0m 82ms/step - loss: 0.0227 - val_loss: 0.0075\n",
            "Epoch 2/8\n",
            "\u001b[1m84/84\u001b[0m \u001b[32m━━━━━━━━━━━━━━━━━━━━\u001b[0m\u001b[37m\u001b[0m \u001b[1m8s\u001b[0m 55ms/step - loss: 0.0034 - val_loss: 0.0064\n",
            "Epoch 3/8\n",
            "\u001b[1m84/84\u001b[0m \u001b[32m━━━━━━━━━━━━━━━━━━━━\u001b[0m\u001b[37m\u001b[0m \u001b[1m6s\u001b[0m 73ms/step - loss: 0.0025 - val_loss: 0.0064\n",
            "Epoch 4/8\n",
            "\u001b[1m84/84\u001b[0m \u001b[32m━━━━━━━━━━━━━━━━━━━━\u001b[0m\u001b[37m\u001b[0m \u001b[1m5s\u001b[0m 55ms/step - loss: 0.0021 - val_loss: 0.0079\n",
            "Epoch 5/8\n",
            "\u001b[1m84/84\u001b[0m \u001b[32m━━━━━━━━━━━━━━━━━━━━\u001b[0m\u001b[37m\u001b[0m \u001b[1m5s\u001b[0m 59ms/step - loss: 0.0017 - val_loss: 0.0055\n",
            "Epoch 6/8\n",
            "\u001b[1m84/84\u001b[0m \u001b[32m━━━━━━━━━━━━━━━━━━━━\u001b[0m\u001b[37m\u001b[0m \u001b[1m6s\u001b[0m 66ms/step - loss: 0.0017 - val_loss: 0.0062\n",
            "Epoch 7/8\n",
            "\u001b[1m84/84\u001b[0m \u001b[32m━━━━━━━━━━━━━━━━━━━━\u001b[0m\u001b[37m\u001b[0m \u001b[1m5s\u001b[0m 55ms/step - loss: 0.0015 - val_loss: 0.0054\n",
            "Epoch 8/8\n",
            "\u001b[1m84/84\u001b[0m \u001b[32m━━━━━━━━━━━━━━━━━━━━\u001b[0m\u001b[37m\u001b[0m \u001b[1m6s\u001b[0m 71ms/step - loss: 0.0012 - val_loss: 0.0075\n",
            "\u001b[1m84/84\u001b[0m \u001b[32m━━━━━━━━━━━━━━━━━━━━\u001b[0m\u001b[37m\u001b[0m \u001b[1m2s\u001b[0m 19ms/step\n",
            "Epoch 1/8\n"
          ]
        },
        {
          "output_type": "stream",
          "name": "stderr",
          "text": [
            "/usr/local/lib/python3.10/dist-packages/keras/src/layers/rnn/rnn.py:204: UserWarning: Do not pass an `input_shape`/`input_dim` argument to a layer. When using Sequential models, prefer using an `Input(shape)` object as the first layer in the model instead.\n",
            "  super().__init__(**kwargs)\n"
          ]
        },
        {
          "output_type": "stream",
          "name": "stdout",
          "text": [
            "\u001b[1m84/84\u001b[0m \u001b[32m━━━━━━━━━━━━━━━━━━━━\u001b[0m\u001b[37m\u001b[0m \u001b[1m16s\u001b[0m 105ms/step - loss: 0.0024 - val_loss: 0.0510\n",
            "Epoch 2/8\n",
            "\u001b[1m84/84\u001b[0m \u001b[32m━━━━━━━━━━━━━━━━━━━━\u001b[0m\u001b[37m\u001b[0m \u001b[1m6s\u001b[0m 56ms/step - loss: 5.7975e-04 - val_loss: 0.0278\n",
            "Epoch 3/8\n",
            "\u001b[1m84/84\u001b[0m \u001b[32m━━━━━━━━━━━━━━━━━━━━\u001b[0m\u001b[37m\u001b[0m \u001b[1m6s\u001b[0m 71ms/step - loss: 4.3856e-04 - val_loss: 0.0270\n",
            "Epoch 4/8\n",
            "\u001b[1m84/84\u001b[0m \u001b[32m━━━━━━━━━━━━━━━━━━━━\u001b[0m\u001b[37m\u001b[0m \u001b[1m10s\u001b[0m 64ms/step - loss: 3.9043e-04 - val_loss: 0.0036\n",
            "Epoch 5/8\n",
            "\u001b[1m36/84\u001b[0m \u001b[32m━━━━━━━━\u001b[0m\u001b[37m━━━━━━━━━━━━\u001b[0m \u001b[1m3s\u001b[0m 77ms/step - loss: 3.6699e-04"
          ]
        }
      ],
      "source": [
        "def build_model(optimizer='adam'):\n",
        "    model = Sequential()\n",
        "    model.add(LSTM(50, return_sequences=True, input_shape=(trainX.shape[1], trainX.shape[2])))\n",
        "    model.add(LSTM(50,return_sequences=True))\n",
        "    model.add(Dropout(0.2))\n",
        "    model.add(LSTM(50,return_sequences=True))\n",
        "    model.add(Dropout(0.2))\n",
        "    model.add(LSTM(50))\n",
        "    model.add(Dropout(0.2))\n",
        "    model.add(Dense(trainY.shape[1]))\n",
        "\n",
        "    model.compile(loss='mse', optimizer=optimizer)\n",
        "    return model\n",
        "\n",
        "# กำหนด Keras Regressor\n",
        "model = KerasRegressor(model=build_model, verbose=1)\n",
        "\n",
        "# พารามิเตอร์สำหรับ GridSearchCV\n",
        "parameters = {\n",
        "    'batch_size': [16, 20,30],\n",
        "    'epochs': [8, 10,12,15,30],\n",
        "    'optimizer': ['adam', 'Adadelta']\n",
        "}\n",
        "\n",
        "# ตั้งค่า GridSearchCV\n",
        "grid_search = GridSearchCV(estimator=model, param_grid=parameters, cv=2)\n",
        "\n",
        "# ฝึกโมเดลด้วย GridSearchCV\n",
        "grid_search.fit(trainX, trainY, validation_data=(testX, testY))"
      ]
    },
    {
      "cell_type": "code",
      "execution_count": 133,
      "id": "a9e26e10",
      "metadata": {
        "colab": {
          "base_uri": "https://localhost:8080/"
        },
        "id": "a9e26e10",
        "outputId": "1cd0b79c-111d-4c21-d42b-6cb13b539a60"
      },
      "outputs": [
        {
          "output_type": "execute_result",
          "data": {
            "text/plain": [
              "{'batch_size': 16, 'epochs': 8, 'optimizer': 'adam'}"
            ]
          },
          "metadata": {},
          "execution_count": 133
        }
      ],
      "source": [
        "grid_search.best_params_"
      ]
    },
    {
      "cell_type": "code",
      "execution_count": 134,
      "id": "d6851ffc",
      "metadata": {
        "id": "d6851ffc"
      },
      "outputs": [],
      "source": [
        "my_model=grid_search.best_estimator_.model_"
      ]
    },
    {
      "cell_type": "code",
      "execution_count": 135,
      "id": "9f0b2e50",
      "metadata": {
        "colab": {
          "base_uri": "https://localhost:8080/"
        },
        "id": "9f0b2e50",
        "outputId": "4741b6ac-218f-458a-a0d2-892babdff7cb"
      },
      "outputs": [
        {
          "output_type": "execute_result",
          "data": {
            "text/plain": [
              "<Sequential name=sequential_222, built=True>"
            ]
          },
          "metadata": {},
          "execution_count": 135
        }
      ],
      "source": [
        "my_model"
      ]
    },
    {
      "cell_type": "code",
      "execution_count": 136,
      "id": "eeb97d64",
      "metadata": {
        "colab": {
          "base_uri": "https://localhost:8080/"
        },
        "id": "eeb97d64",
        "outputId": "67b3dcc3-4989-4b1a-a2ff-aa87780700d5"
      },
      "outputs": [
        {
          "output_type": "stream",
          "name": "stdout",
          "text": [
            "\u001b[1m1/1\u001b[0m \u001b[32m━━━━━━━━━━━━━━━━━━━━\u001b[0m\u001b[37m\u001b[0m \u001b[1m0s\u001b[0m 285ms/step\n"
          ]
        }
      ],
      "source": [
        "prediction=my_model.predict(testX)"
      ]
    },
    {
      "cell_type": "code",
      "execution_count": 137,
      "id": "8699c0d3",
      "metadata": {
        "colab": {
          "base_uri": "https://localhost:8080/"
        },
        "id": "8699c0d3",
        "outputId": "d9ff5d86-30ad-4d1c-81b1-be33181b2707"
      },
      "outputs": [
        {
          "output_type": "stream",
          "name": "stdout",
          "text": [
            "prediction\n",
            " [[0.4065784  0.4333956 ]\n",
            " [0.40410155 0.43230957]\n",
            " [0.40682366 0.436212  ]\n",
            " [0.42188475 0.45195633]\n",
            " [0.43775928 0.46813443]\n",
            " [0.46225274 0.4920006 ]\n",
            " [0.4885373  0.51718926]\n",
            " [0.50837535 0.535557  ]\n",
            " [0.52090365 0.5463177 ]\n",
            " [0.5246927  0.5484832 ]\n",
            " [0.5331731  0.555123  ]\n",
            " [0.53786427 0.5588623 ]\n",
            " [0.5361995  0.55698735]\n",
            " [0.53896093 0.55946827]]\n",
            "testY\n",
            " [[0.51816477 0.57228816]\n",
            " [0.57228816 0.6279756 ]\n",
            " [0.6279756  0.62207385]\n",
            " [0.62207385 0.61669393]\n",
            " [0.61669393 0.60881902]\n",
            " [0.60881902 0.60319815]\n",
            " [0.60319815 0.63364212]\n",
            " [0.63364212 0.65906439]\n",
            " [0.65906439 0.66950722]\n",
            " [0.66950722 0.68765376]\n",
            " [0.68765376 0.69502143]\n",
            " [0.69502143 0.71672931]\n",
            " [0.71672931 0.82409521]\n",
            " [0.82409521 0.99597378]]\n",
            "\n",
            "Prediction Shape- (14, 2)\n"
          ]
        }
      ],
      "source": [
        "print(\"prediction\\n\", prediction)\n",
        "print(\"testY\\n\",testY)\n",
        "print(\"\\nPrediction Shape-\",prediction.shape)"
      ]
    },
    {
      "cell_type": "code",
      "execution_count": 138,
      "id": "2be6090a",
      "metadata": {
        "colab": {
          "base_uri": "https://localhost:8080/"
        },
        "id": "2be6090a",
        "outputId": "3e74f996-94e6-48ef-d1c1-e1e639985e90"
      },
      "outputs": [
        {
          "output_type": "execute_result",
          "data": {
            "text/plain": [
              "(14, 2)"
            ]
          },
          "metadata": {},
          "execution_count": 138
        }
      ],
      "source": [
        "prediction.shape"
      ]
    },
    {
      "cell_type": "code",
      "source": [
        "def resha(data,future):\n",
        "  final = []\n",
        "  for i in range(0, data.shape[0], future):\n",
        "    for j in range(data.shape[1]):\n",
        "                final.append(data[i,j])\n",
        "  return np.array(final)\n"
      ],
      "metadata": {
        "id": "jcA320NpfLNU"
      },
      "id": "jcA320NpfLNU",
      "execution_count": 139,
      "outputs": []
    },
    {
      "cell_type": "code",
      "source": [
        "array_predict=resha(prediction,5)"
      ],
      "metadata": {
        "id": "1-wBL8IhEdAJ"
      },
      "id": "1-wBL8IhEdAJ",
      "execution_count": 140,
      "outputs": []
    },
    {
      "cell_type": "code",
      "source": [
        "array_actual = resha(testY,5)"
      ],
      "metadata": {
        "id": "FC3OKVKMQs37"
      },
      "id": "FC3OKVKMQs37",
      "execution_count": 141,
      "outputs": []
    },
    {
      "cell_type": "code",
      "source": [
        "array_predict.shape"
      ],
      "metadata": {
        "colab": {
          "base_uri": "https://localhost:8080/"
        },
        "id": "kszHyvBtf6I-",
        "outputId": "c33c97aa-0ef2-4443-8c58-582f7f73be0d"
      },
      "id": "kszHyvBtf6I-",
      "execution_count": 142,
      "outputs": [
        {
          "output_type": "execute_result",
          "data": {
            "text/plain": [
              "(14,)"
            ]
          },
          "metadata": {},
          "execution_count": 142
        }
      ]
    },
    {
      "cell_type": "code",
      "source": [
        "reshaped_predict = np.tile(array_predict.reshape(-1, 1), df_for_testing.shape[1])"
      ],
      "metadata": {
        "id": "cDgLhvYRQHq3"
      },
      "id": "cDgLhvYRQHq3",
      "execution_count": 143,
      "outputs": []
    },
    {
      "cell_type": "code",
      "source": [
        "reshaped_actual = np.tile(array_actual.reshape(-1, 1), df_for_testing.shape[1])"
      ],
      "metadata": {
        "id": "BUoecF4gRTcK"
      },
      "id": "BUoecF4gRTcK",
      "execution_count": 144,
      "outputs": []
    },
    {
      "cell_type": "code",
      "source": [
        "reshaped_predict[0]"
      ],
      "metadata": {
        "colab": {
          "base_uri": "https://localhost:8080/"
        },
        "id": "NOu9Sh_pHoLt",
        "outputId": "832f3add-2904-415d-fa80-58b28dd2ccef"
      },
      "id": "NOu9Sh_pHoLt",
      "execution_count": 145,
      "outputs": [
        {
          "output_type": "execute_result",
          "data": {
            "text/plain": [
              "array([0.4065784, 0.4065784, 0.4065784, 0.4065784], dtype=float32)"
            ]
          },
          "metadata": {},
          "execution_count": 145
        }
      ]
    },
    {
      "cell_type": "code",
      "execution_count": 146,
      "id": "c8c654a6",
      "metadata": {
        "id": "c8c654a6"
      },
      "outputs": [],
      "source": [
        "predict_inver=scaler.inverse_transform(reshaped_predict)\n",
        "actual_inver=scaler.inverse_transform(reshaped_actual)"
      ]
    },
    {
      "cell_type": "code",
      "source": [
        "predict_inver[0]"
      ],
      "metadata": {
        "colab": {
          "base_uri": "https://localhost:8080/"
        },
        "id": "SY-pLoroRjMa",
        "outputId": "9ee09f7d-bdd1-437e-c3c5-502a5a7fcd80"
      },
      "id": "SY-pLoroRjMa",
      "execution_count": 147,
      "outputs": [
        {
          "output_type": "execute_result",
          "data": {
            "text/plain": [
              "array([27415.943  ,    33.2269 ,   101.57652,  1590.7262 ], dtype=float32)"
            ]
          },
          "metadata": {},
          "execution_count": 147
        }
      ]
    },
    {
      "cell_type": "code",
      "execution_count": 148,
      "id": "Q5zPs_PSI_7T",
      "metadata": {
        "colab": {
          "base_uri": "https://localhost:8080/"
        },
        "id": "Q5zPs_PSI_7T",
        "outputId": "3cb94f90-04d3-41f9-9025-4c92411f050a"
      },
      "outputs": [
        {
          "output_type": "execute_result",
          "data": {
            "text/plain": [
              "array([29922.91666667,    34.11592052,   102.9423368 ,  1733.64445557])"
            ]
          },
          "metadata": {},
          "execution_count": 148
        }
      ],
      "source": [
        "actual_inver[0]"
      ]
    },
    {
      "cell_type": "code",
      "source": [
        "predict_ori = predict_inver[:, 0].reshape(predict_inver.shape[0], 1)\n",
        "actual_ori = actual_inver[:, 0].reshape(actual_inver.shape[0], 1)"
      ],
      "metadata": {
        "id": "653oc8nnSMnh"
      },
      "id": "653oc8nnSMnh",
      "execution_count": 150,
      "outputs": []
    },
    {
      "cell_type": "code",
      "source": [
        "predict_ori.shape"
      ],
      "metadata": {
        "colab": {
          "base_uri": "https://localhost:8080/"
        },
        "id": "NTVaPH1PTIYY",
        "outputId": "9cc509f4-ad56-4616-e3fc-036d2a47690d"
      },
      "id": "NTVaPH1PTIYY",
      "execution_count": 151,
      "outputs": [
        {
          "output_type": "execute_result",
          "data": {
            "text/plain": [
              "(14, 1)"
            ]
          },
          "metadata": {},
          "execution_count": 151
        }
      ]
    },
    {
      "cell_type": "code",
      "source": [
        "actual_ori.shape"
      ],
      "metadata": {
        "colab": {
          "base_uri": "https://localhost:8080/"
        },
        "id": "EgZuWrOFTata",
        "outputId": "2eba8c91-17b0-4012-a233-a485e00d9024"
      },
      "id": "EgZuWrOFTata",
      "execution_count": 152,
      "outputs": [
        {
          "output_type": "execute_result",
          "data": {
            "text/plain": [
              "(14, 1)"
            ]
          },
          "metadata": {},
          "execution_count": 152
        }
      ]
    },
    {
      "cell_type": "code",
      "source": [
        "predict_ori[0]"
      ],
      "metadata": {
        "colab": {
          "base_uri": "https://localhost:8080/"
        },
        "id": "sDwS2ur9zGng",
        "outputId": "5bb17112-5c9e-42e2-e51c-6e7c7a9f7139"
      },
      "id": "sDwS2ur9zGng",
      "execution_count": 153,
      "outputs": [
        {
          "output_type": "execute_result",
          "data": {
            "text/plain": [
              "array([27415.943], dtype=float32)"
            ]
          },
          "metadata": {},
          "execution_count": 153
        }
      ]
    },
    {
      "cell_type": "code",
      "source": [
        "actual_ori[0]"
      ],
      "metadata": {
        "colab": {
          "base_uri": "https://localhost:8080/"
        },
        "id": "E8FYa_Q9zK80",
        "outputId": "01f01fe4-8b17-4540-b699-fd9dc1249286"
      },
      "id": "E8FYa_Q9zK80",
      "execution_count": 154,
      "outputs": [
        {
          "output_type": "execute_result",
          "data": {
            "text/plain": [
              "array([29922.91666667])"
            ]
          },
          "metadata": {},
          "execution_count": 154
        }
      ]
    },
    {
      "cell_type": "code",
      "source": [
        "from sklearn.metrics import mean_squared_error\n",
        "mse = mean_squared_error(actual_ori, predict_ori)\n",
        "print(\"Mean Squared Error:\", mse)\n"
      ],
      "metadata": {
        "colab": {
          "base_uri": "https://localhost:8080/"
        },
        "id": "mGGxMz0Tz1qf",
        "outputId": "0666cdfd-4d53-46b4-d3c0-b820a7c6bdad"
      },
      "id": "mGGxMz0Tz1qf",
      "execution_count": 155,
      "outputs": [
        {
          "output_type": "stream",
          "name": "stdout",
          "text": [
            "Mean Squared Error: 13532779.042446768\n"
          ]
        }
      ]
    },
    {
      "cell_type": "code",
      "execution_count": 156,
      "id": "07e37414",
      "metadata": {
        "id": "07e37414"
      },
      "outputs": [],
      "source": [
        "import matplotlib.pyplot as plt"
      ]
    },
    {
      "cell_type": "code",
      "execution_count": 157,
      "id": "bfa9b94b",
      "metadata": {
        "colab": {
          "base_uri": "https://localhost:8080/",
          "height": 472
        },
        "id": "bfa9b94b",
        "outputId": "7e85145f-9b81-41d7-96d6-ecc6e1284dde"
      },
      "outputs": [
        {
          "output_type": "display_data",
          "data": {
            "text/plain": [
              "<Figure size 640x480 with 1 Axes>"
            ],
            "image/png": "[encoded data removed]"
          },
          "metadata": {}
        }
      ],
      "source": [
        "plt.plot(actual_ori, color = 'red', label = 'Real  Stock Price')\n",
        "plt.plot(predict_ori, color = 'blue', label = 'Predicted  Stock Price')\n",
        "plt.title(' Stock Price Prediction')\n",
        "plt.xlabel('Time')\n",
        "plt.ylabel(' Stock Price')\n",
        "plt.legend()\n",
        "plt.show()"
      ]
    },
    {
      "cell_type": "code",
      "execution_count": null,
      "id": "441ddb80",
      "metadata": {
        "id": "441ddb80"
      },
      "outputs": [],
      "source": []
    },
    {
      "cell_type": "code",
      "execution_count": null,
      "id": "0ede34e7",
      "metadata": {
        "id": "0ede34e7"
      },
      "outputs": [],
      "source": [
        "mymodel.save('Model_future_value.h5')\n",
        "print('Model Saved!')"
      ]
    },
    {
      "cell_type": "markdown",
      "id": "dcbe5698",
      "metadata": {
        "id": "dcbe5698"
      },
      "source": [
        "# END!!!!"
      ]
    }
  ],
  "metadata": {
    "colab": {
      "provenance": []
    },
    "kernelspec": {
      "display_name": "Python 3 (ipykernel)",
      "language": "python",
      "name": "python3"
    },
    "language_info": {
      "codemirror_mode": {
        "name": "ipython",
        "version": 3
      },
      "file_extension": ".py",
      "mimetype": "text/x-python",
      "name": "python",
      "nbconvert_exporter": "python",
      "pygments_lexer": "ipython3",
      "version": "3.9.7"
    }
  },
  "nbformat": 4,
  "nbformat_minor": 5
}