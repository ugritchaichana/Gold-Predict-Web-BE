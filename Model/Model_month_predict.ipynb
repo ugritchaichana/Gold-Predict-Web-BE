{
  "cells": [
    {
      "cell_type": "code",
      "id": "G36xVjXlJdrPkeMFix4DK7oU",
      "metadata": {
        "tags": [],
        "id": "G36xVjXlJdrPkeMFix4DK7oU",
        "colab": {
          "base_uri": "https://localhost:8080/"
        },
        "outputId": "63c180ac-3283-45c5-ff22-ee82ad0f248f"
      },
      "source": [
        "!pip install google-cloud-aiplatform google-cloud-storage\n",
        "import numpy as np\n",
        "from tensorflow.keras.models import Sequential, Model\n",
        "from tensorflow.keras.layers import Dense, LSTM, Conv1D, MaxPooling1D, Dropout, Flatten, Attention, Input\n",
        "from tensorflow.keras.layers import TimeDistributed\n",
        "import pandas as pd\n",
        "from tensorflow.keras.optimizers import Adam\n",
        "from matplotlib import pyplot as plt\n",
        "from sklearn.preprocessing import MinMaxScaler, StandardScaler\n",
        "from sklearn.metrics import r2_score\n",
        "from sklearn.metrics import mean_absolute_error\n",
        "from sklearn.metrics import mean_absolute_percentage_error\n",
        "from sklearn.metrics import root_mean_squared_error\n",
        "from tensorflow.keras.callbacks import EarlyStopping\n",
        "from tensorflow.keras.callbacks import ReduceLROnPlateau\n",
        "import os\n",
        "from datetime import datetime\n",
        "import gc\n",
        "import psutil\n",
        "from tensorflow import keras"
      ],
      "execution_count": null,
      "outputs": [
        {
          "output_type": "stream",
          "name": "stdout",
          "text": [
            "Requirement already satisfied: google-cloud-aiplatform in /usr/local/lib/python3.10/dist-packages (1.74.0)\n",
            "Requirement already satisfied: google-cloud-storage in /usr/local/lib/python3.10/dist-packages (2.19.0)\n",
            "Requirement already satisfied: google-api-core!=2.0.*,!=2.1.*,!=2.2.*,!=2.3.*,!=2.4.*,!=2.5.*,!=2.6.*,!=2.7.*,<3.0.0dev,>=1.34.1 in /usr/local/lib/python3.10/dist-packages (from google-api-core[grpc]!=2.0.*,!=2.1.*,!=2.2.*,!=2.3.*,!=2.4.*,!=2.5.*,!=2.6.*,!=2.7.*,<3.0.0dev,>=1.34.1->google-cloud-aiplatform) (2.19.2)\n",
            "Requirement already satisfied: google-auth<3.0.0dev,>=2.14.1 in /usr/local/lib/python3.10/dist-packages (from google-cloud-aiplatform) (2.27.0)\n",
            "Requirement already satisfied: proto-plus<2.0.0dev,>=1.22.3 in /usr/local/lib/python3.10/dist-packages (from google-cloud-aiplatform) (1.25.0)\n",
            "Requirement already satisfied: protobuf!=4.21.0,!=4.21.1,!=4.21.2,!=4.21.3,!=4.21.4,!=4.21.5,<6.0.0dev,>=3.20.2 in /usr/local/lib/python3.10/dist-packages (from google-cloud-aiplatform) (4.25.5)\n",
            "Requirement already satisfied: packaging>=14.3 in /usr/local/lib/python3.10/dist-packages (from google-cloud-aiplatform) (24.2)\n",
            "Requirement already satisfied: google-cloud-bigquery!=3.20.0,<4.0.0dev,>=1.15.0 in /usr/local/lib/python3.10/dist-packages (from google-cloud-aiplatform) (3.25.0)\n",
            "Requirement already satisfied: google-cloud-resource-manager<3.0.0dev,>=1.3.3 in /usr/local/lib/python3.10/dist-packages (from google-cloud-aiplatform) (1.14.0)\n",
            "Requirement already satisfied: shapely<3.0.0dev in /usr/local/lib/python3.10/dist-packages (from google-cloud-aiplatform) (2.0.6)\n",
            "Requirement already satisfied: pydantic<3 in /usr/local/lib/python3.10/dist-packages (from google-cloud-aiplatform) (2.10.4)\n",
            "Requirement already satisfied: docstring-parser<1 in /usr/local/lib/python3.10/dist-packages (from google-cloud-aiplatform) (0.16)\n",
            "Requirement already satisfied: google-cloud-core<3.0dev,>=2.3.0 in /usr/local/lib/python3.10/dist-packages (from google-cloud-storage) (2.4.1)\n",
            "Requirement already satisfied: google-resumable-media>=2.7.2 in /usr/local/lib/python3.10/dist-packages (from google-cloud-storage) (2.7.2)\n",
            "Requirement already satisfied: requests<3.0.0dev,>=2.18.0 in /usr/local/lib/python3.10/dist-packages (from google-cloud-storage) (2.32.3)\n",
            "Requirement already satisfied: google-crc32c<2.0dev,>=1.0 in /usr/local/lib/python3.10/dist-packages (from google-cloud-storage) (1.6.0)\n",
            "Requirement already satisfied: googleapis-common-protos<2.0.dev0,>=1.56.2 in /usr/local/lib/python3.10/dist-packages (from google-api-core!=2.0.*,!=2.1.*,!=2.2.*,!=2.3.*,!=2.4.*,!=2.5.*,!=2.6.*,!=2.7.*,<3.0.0dev,>=1.34.1->google-api-core[grpc]!=2.0.*,!=2.1.*,!=2.2.*,!=2.3.*,!=2.4.*,!=2.5.*,!=2.6.*,!=2.7.*,<3.0.0dev,>=1.34.1->google-cloud-aiplatform) (1.66.0)\n",
            "Requirement already satisfied: grpcio<2.0dev,>=1.33.2 in /usr/local/lib/python3.10/dist-packages (from google-api-core[grpc]!=2.0.*,!=2.1.*,!=2.2.*,!=2.3.*,!=2.4.*,!=2.5.*,!=2.6.*,!=2.7.*,<3.0.0dev,>=1.34.1->google-cloud-aiplatform) (1.69.0)\n",
            "Requirement already satisfied: grpcio-status<2.0.dev0,>=1.33.2 in /usr/local/lib/python3.10/dist-packages (from google-api-core[grpc]!=2.0.*,!=2.1.*,!=2.2.*,!=2.3.*,!=2.4.*,!=2.5.*,!=2.6.*,!=2.7.*,<3.0.0dev,>=1.34.1->google-cloud-aiplatform) (1.62.3)\n",
            "Requirement already satisfied: cachetools<6.0,>=2.0.0 in /usr/local/lib/python3.10/dist-packages (from google-auth<3.0.0dev,>=2.14.1->google-cloud-aiplatform) (5.5.0)\n",
            "Requirement already satisfied: pyasn1-modules>=0.2.1 in /usr/local/lib/python3.10/dist-packages (from google-auth<3.0.0dev,>=2.14.1->google-cloud-aiplatform) (0.4.1)\n",
            "Requirement already satisfied: rsa<5,>=3.1.4 in /usr/local/lib/python3.10/dist-packages (from google-auth<3.0.0dev,>=2.14.1->google-cloud-aiplatform) (4.9)\n",
            "Requirement already satisfied: python-dateutil<3.0dev,>=2.7.2 in /usr/local/lib/python3.10/dist-packages (from google-cloud-bigquery!=3.20.0,<4.0.0dev,>=1.15.0->google-cloud-aiplatform) (2.8.2)\n",
            "Requirement already satisfied: grpc-google-iam-v1<1.0.0dev,>=0.12.4 in /usr/local/lib/python3.10/dist-packages (from google-cloud-resource-manager<3.0.0dev,>=1.3.3->google-cloud-aiplatform) (0.14.0)\n",
            "Requirement already satisfied: annotated-types>=0.6.0 in /usr/local/lib/python3.10/dist-packages (from pydantic<3->google-cloud-aiplatform) (0.7.0)\n",
            "Requirement already satisfied: pydantic-core==2.27.2 in /usr/local/lib/python3.10/dist-packages (from pydantic<3->google-cloud-aiplatform) (2.27.2)\n",
            "Requirement already satisfied: typing-extensions>=4.12.2 in /usr/local/lib/python3.10/dist-packages (from pydantic<3->google-cloud-aiplatform) (4.12.2)\n",
            "Requirement already satisfied: charset-normalizer<4,>=2 in /usr/local/lib/python3.10/dist-packages (from requests<3.0.0dev,>=2.18.0->google-cloud-storage) (3.4.1)\n",
            "Requirement already satisfied: idna<4,>=2.5 in /usr/local/lib/python3.10/dist-packages (from requests<3.0.0dev,>=2.18.0->google-cloud-storage) (3.10)\n",
            "Requirement already satisfied: urllib3<3,>=1.21.1 in /usr/local/lib/python3.10/dist-packages (from requests<3.0.0dev,>=2.18.0->google-cloud-storage) (2.3.0)\n",
            "Requirement already satisfied: certifi>=2017.4.17 in /usr/local/lib/python3.10/dist-packages (from requests<3.0.0dev,>=2.18.0->google-cloud-storage) (2024.12.14)\n",
            "Requirement already satisfied: numpy<3,>=1.14 in /usr/local/lib/python3.10/dist-packages (from shapely<3.0.0dev->google-cloud-aiplatform) (1.26.4)\n",
            "Requirement already satisfied: pyasn1<0.7.0,>=0.4.6 in /usr/local/lib/python3.10/dist-packages (from pyasn1-modules>=0.2.1->google-auth<3.0.0dev,>=2.14.1->google-cloud-aiplatform) (0.6.1)\n",
            "Requirement already satisfied: six>=1.5 in /usr/local/lib/python3.10/dist-packages (from python-dateutil<3.0dev,>=2.7.2->google-cloud-bigquery!=3.20.0,<4.0.0dev,>=1.15.0->google-cloud-aiplatform) (1.17.0)\n"
          ]
        }
      ]
    },
    {
      "cell_type": "code",
      "source": [
        "from google.cloud import storage\n",
        "\n",
        "BUCKET_NAME = \"gold_predictions_web\"  # เปลี่ยนเป็นชื่อ Bucket ของคุณ\n",
        "\n",
        "client = storage.Client()\n",
        "bucket = client.bucket(BUCKET_NAME)\n",
        "print(f\"เชื่อมต่อกับ GCS Bucket: {BUCKET_NAME}\")"
      ],
      "metadata": {
        "colab": {
          "base_uri": "https://localhost:8080/"
        },
        "id": "rbl9oL3BmbB4",
        "outputId": "c36eb87f-8c79-4153-dec2-decd18ea90d9"
      },
      "id": "rbl9oL3BmbB4",
      "execution_count": null,
      "outputs": [
        {
          "output_type": "stream",
          "name": "stdout",
          "text": [
            "เชื่อมต่อกับ GCS Bucket: gold_predictions_web\n"
          ]
        }
      ]
    },
    {
      "cell_type": "code",
      "source": [
        "import requests\n",
        "nowDate=datetime.now()\n",
        "startTime=f'{nowDate.year-10}-{nowDate.month}-{nowDate.day}'\n",
        "endTime=f'{nowDate.year}-{nowDate.month}-{nowDate.day}'\n",
        "startTime_1=f'{nowDate.day}-{nowDate.month}-{nowDate.year-10}'\n",
        "endTime_1=f'{nowDate.day}-{nowDate.month}-{nowDate.year}'\n",
        "url_currency = f\"https://gold-predictions.duckdns.org/currency/get/?start={startTime}&end={endTime}&cache=False\"\n",
        "url_Gold_usd = f\"https://gold-predictions.duckdns.org/finnomenaGold/get-gold-data/?db_choice=1&start={startTime_1}&end={endTime_1}&cache=False\"\n",
        "url_Gold_thb = f\"https://gold-predictions.duckdns.org/finnomenaGold/get-gold-data/?db_choice=0&start={startTime_1}&end={endTime_1}&cache=False\"\n",
        "# เรียก API และดึงข้อมูล\n",
        "response = requests.get(url_currency)\n",
        "\n",
        "# ตรวจสอบว่าการเรียก API สำเร็จหรือไม่\n",
        "if response.status_code == 200:\n",
        "    data_currency = response.json()  # แปลงข้อมูลเป็น JSON\n",
        "    data_list = data_currency[\"data\"]\n",
        "    df_currency = pd.DataFrame(data_list)  # สร้าง DataFrame\n",
        "    print(df_currency.tail())  # แสดงตัวอย่างข้อมูล\n",
        "else:\n",
        "    print(f\"Error: {response.status_code}\")\n",
        "\n",
        "response = requests.get(url_Gold_usd)\n",
        "\n",
        "# ตรวจสอบว่าการเรียก API สำเร็จหรือไม่\n",
        "if response.status_code == 200:\n",
        "    data_Gold_usd = response.json()  # แปลงข้อมูลเป็น JSON\n",
        "    data_list = data_Gold_usd[\"data\"]\n",
        "    df_Gold_usd = pd.DataFrame(data_list)  # สร้าง DataFrame\n",
        "    print(df_Gold_usd.tail())  # แสดงตัวอย่างข้อมูล\n",
        "else:\n",
        "    print(f\"Error: {response.status_code}\")\n",
        "\n",
        "response = requests.get(url_Gold_thb)\n",
        "\n",
        "# ตรวจสอบว่าการเรียก API สำเร็จหรือไม่\n",
        "if response.status_code == 200:\n",
        "    data_Gold_thb = response.json()  # แปลงข้อมูลเป็น JSON\n",
        "    data_list = data_Gold_thb[\"data\"]\n",
        "    df_Gold_thb = pd.DataFrame(data_list)  # สร้าง DataFrame\n",
        "    print(df_Gold_thb.tail())  # แสดงตัวอย่างข้อมูล\n",
        "else:\n",
        "    print(f\"Error: {response.status_code}\")\n",
        "\n",
        "df_currency=df_currency[['date','price']]\n",
        "df_currency.columns = ['Date', 'price_exchange']\n",
        "\n",
        "df_Gold_thb=df_Gold_thb[['timestamp','price']]\n",
        "df_Gold_thb = df_Gold_thb.copy()\n",
        "df_Gold_thb['timestamp'] = df_Gold_thb['timestamp'].apply(lambda x: x // 1000 if x > 10**12 else x)\n",
        "df_Gold_thb['timestamp'] = pd.to_datetime(df_Gold_thb['timestamp'], unit='s').dt.tz_localize('UTC').dt.tz_convert('Asia/Bangkok')\n",
        "df_Gold_thb['timestamp'] = df_Gold_thb['timestamp'].dt.strftime('%d/%m/%Y')\n",
        "df_Gold_thb.columns = ['Date', 'Thai_Gold']\n",
        "\n",
        "df_Gold_usd=df_Gold_usd[['timestamp','close_price']]\n",
        "df_Gold_usd = df_Gold_usd.copy()\n",
        "df_Gold_usd['timestamp'] = df_Gold_usd['timestamp'].apply(lambda x: x // 1000 if x > 10**12 else x)\n",
        "df_Gold_usd['timestamp'] = pd.to_datetime(df_Gold_usd['timestamp'], unit='s').dt.tz_localize('UTC').dt.tz_convert('Asia/Bangkok')\n",
        "df_Gold_usd['timestamp'] = df_Gold_usd['timestamp'].dt.strftime('%d/%m/%Y')\n",
        "df_Gold_usd.columns = ['Date', 'Xau']\n",
        "\n",
        "\n",
        "# รวม DataFrame ทั้งสามโดยใช้ date เป็นคีย์อ้างอิง\n",
        "df_currency['Date'] = pd.to_datetime(df_currency['Date'], format='%Y-%m-%d').dt.normalize()\n",
        "df_Gold_thb['Date'] = pd.to_datetime(df_Gold_thb['Date'], format='%d/%m/%Y').dt.normalize()\n",
        "df_Gold_usd['Date'] = pd.to_datetime(df_Gold_usd['Date'], format='%d/%m/%Y').dt.normalize()\n",
        "merged_df = (\n",
        "    df_Gold_thb\n",
        "    .merge(df_Gold_usd, on='Date', how='outer')\n",
        "    .merge(df_currency, on='Date', how='outer')\n",
        ")\n",
        "merged_df = (\n",
        "    merged_df\n",
        "    .sort_values('Date')\n",
        "    .groupby('Date', as_index=False)\n",
        "    .first()  # เอาแถวแรกของแต่ละวัน\n",
        ")\n",
        "print(df_currency.dtypes)\n",
        "print(df_Gold_thb.dtypes)\n",
        "print(df_Gold_usd.dtypes)\n",
        "\n",
        "merged_df[['Xau']] = merged_df[['Xau']].shift(1)\n",
        "merged_df['Xau'] = merged_df['Xau'].ffill()\n",
        "merged_df.dropna(inplace=True)\n",
        "merged_df.to_csv('acvs.csv')\n",
        "dupes = merged_df[merged_df.duplicated('Date', keep=False)]\n",
        "print(f\"จำนวนวันที่ซ้ำ: {len(dupes)}\")\n",
        "print(dupes.sort_values('Date'))"
      ],
      "metadata": {
        "colab": {
          "base_uri": "https://localhost:8080/"
        },
        "id": "VjHpbvvemd3M",
        "outputId": "e1f4c39b-579b-47cb-c920-d1bdc15bef43"
      },
      "id": "VjHpbvvemd3M",
      "execution_count": null,
      "outputs": [
        {
          "output_type": "stream",
          "name": "stdout",
          "text": [
            "          id        date  price   open    high     low  percent  diff\n",
            "6884  194967  2025-04-17  33.34  33.10  33.445  33.055   0.8164  0.27\n",
            "6885  194968  2025-04-18  33.35  33.35  33.460  32.950   0.0300  0.01\n",
            "6886  194970  2025-04-19  33.39  33.35  33.450  33.320   0.1100  0.04\n",
            "6887  194971  2025-04-20  33.38  33.39  33.440  33.310  -0.0400 -0.01\n",
            "6888  194972  2025-04-21  33.07  33.35  33.350  33.050  -0.9300 -0.31\n",
            "         id      timestamp    price  close_price  high_price  low_price  \\\n",
            "3041  90318  1744502400000  3238.07      3223.90     3238.07    3210.60   \n",
            "3042  90319  1744588800000  3221.80      3212.34     3245.23    3194.59   \n",
            "3043  90320  1744675200000  3212.71      3250.51     3250.80    3210.20   \n",
            "3044  90323  1744761600000  3252.86      3349.52     3357.01    3250.34   \n",
            "3045  90325  1744848000000  3349.87      3314.93     3355.33    3276.44   \n",
            "\n",
            "      volume  volume_weight_avg  num_transactions      date  \\\n",
            "3041   262.0          3219.8965               262  13-04-25   \n",
            "3042  3542.0          3218.3421              3542  14-04-25   \n",
            "3043  3592.0          3224.7918              3592  15-04-25   \n",
            "3044  3584.0          3306.7695              3584  16-04-25   \n",
            "3045  2990.0          3325.2435              2990  17-04-25   \n",
            "\n",
            "                created_at  \n",
            "3041  2025-04-13T07:00:00Z  \n",
            "3042  2025-04-14T07:00:00Z  \n",
            "3043  2025-04-15T07:00:00Z  \n",
            "3044  2025-04-16T07:00:00Z  \n",
            "3045  2025-04-17T07:00:00Z  \n",
            "          id            created_at created_time    price bar_sell_price  \\\n",
            "3081  150748  2025-04-21T02:44:00Z            2  52900.0       53000.00   \n",
            "3082  150749  2025-04-21T04:19:00Z            3  52850.0       52950.00   \n",
            "3083  150750  2025-04-21T06:32:00Z            6  53000.0       53100.00   \n",
            "3084  150751  2025-04-21T08:46:00Z            9  53050.0       53150.00   \n",
            "3085  150752  2025-04-21T10:16:00Z           10  53100.0       53200.00   \n",
            "\n",
            "     bar_price_change ornament_buy_price ornament_sell_price      timestamp  \\\n",
            "3081            50.00           51953.32            53800.00  1745203440000   \n",
            "3082           -50.00           51892.68            53750.00  1745209140000   \n",
            "3083            50.00           52044.28            53900.00  1745217120000   \n",
            "3084            50.00           52089.76            53950.00  1745225160000   \n",
            "3085            50.00           52150.40            54000.00  1745230560000   \n",
            "\n",
            "          date  \n",
            "3081  21-04-25  \n",
            "3082  21-04-25  \n",
            "3083  21-04-25  \n",
            "3084  21-04-25  \n",
            "3085  21-04-25  \n",
            "Date              datetime64[ns]\n",
            "price_exchange           float64\n",
            "dtype: object\n",
            "Date         datetime64[ns]\n",
            "Thai_Gold           float64\n",
            "dtype: object\n",
            "Date    datetime64[ns]\n",
            "Xau            float64\n",
            "dtype: object\n",
            "จำนวนวันที่ซ้ำ: 0\n",
            "Empty DataFrame\n",
            "Columns: [Date, Thai_Gold, Xau, price_exchange]\n",
            "Index: []\n"
          ]
        }
      ]
    },
    {
      "cell_type": "code",
      "source": [
        "movingavg=[0]\n",
        "lag=[3]\n",
        "seq=[1]\n",
        "month_data=[True]\n",
        "# Load the data\n",
        "for month_onoff in range(len(month_data)):\n",
        "\n",
        "    data = merged_df.copy()\n",
        "\n",
        "# Convert 'Date' to datetime format\n",
        "    data['Date'] = pd.to_datetime(data['Date'], format='%d/%m/%Y')\n",
        "\n",
        "    # Remove commas from the 'Xau' column and convert to float\n",
        "    # data['Xau'] = data['Xau'].str.replace(',', '').astype(float)\n",
        "\n",
        "    # Set 'Date' as the index\n",
        "    data.set_index('Date', inplace=True)\n",
        "\n",
        "    # Resample to monthly data and calculate open, max, and min for Thai_Gold\n",
        "    monthly_data = data.resample('ME').agg({\n",
        "        'Thai_Gold': ['first', 'max', 'min'],\n",
        "        'price_exchange': 'mean',\n",
        "        'Xau': 'mean'\n",
        "    })\n",
        "\n",
        "    # Rename columns for clarity\n",
        "    monthly_data.columns = [\n",
        "        'Thai_Gold_Open', 'Thai_Gold_Max', 'Thai_Gold_Min',\n",
        "        'Price_Exchange_Mean', 'Xau_Mean'\n",
        "    ]\n",
        "\n",
        "    # Add the correct 'Thai_Gold_Open' for the first day of each month\n",
        "    first_of_month = data.resample('MS').first()['Thai_Gold']\n",
        "    monthly_data['Thai_Gold_Open'] = first_of_month.values\n",
        "    monthly_data.to_csv('Month.csv')\n",
        "    # Add a 'Month' column with numeric month values\n",
        "    if month_data[month_onoff] == True:\n",
        "      monthly_data['Month'] = monthly_data.index.strftime('%m')\n",
        "\n",
        "    # Calculate moving averages for 3, 5, and 7 months\n",
        "    for moving_num in range(len(movingavg)):\n",
        "      if movingavg[moving_num] >=1:\n",
        "        monthly_data['MA_3'] = monthly_data['Thai_Gold_Open'].rolling(window=3).mean()\n",
        "      if movingavg[moving_num] >=2:\n",
        "        monthly_data['MA_5'] = monthly_data['Thai_Gold_Open'].rolling(window=5).mean()\n",
        "      if movingavg[moving_num] >=3:\n",
        "        monthly_data['MA_7'] = monthly_data['Thai_Gold_Open'].rolling(window=7).mean()\n",
        "      # Rearrange columns\n",
        "\n",
        "      # Display the final DataFrame\n",
        "      monthly_data.dropna(inplace=True)\n",
        "      print(monthly_data)\n",
        "      # Feature=['Month','Price_Exchange_Mean', 'Xau_Mean', 'MA_3', 'MA_5', 'MA_7']\n",
        "      Target=['Thai_Gold_Open', 'Thai_Gold_Max', 'Thai_Gold_Min']\n",
        "      data_clone=monthly_data.copy()\n",
        "      for lagFea in range(len(lag)):\n",
        "        X = monthly_data.drop(columns=Target)\n",
        "        y = monthly_data[Target].values\n",
        "        for i in range(1, lag[lagFea]+1):  # สร้างย้อนหลัง 7 วัน\n",
        "            X[f'Thai_Gold_Open_Lag_{i}'] = data_clone['Thai_Gold_Open'].shift(i)\n",
        "            X[f'Thai_Gold_Max_Lag_{i}'] = data_clone['Thai_Gold_Max'].shift(i)\n",
        "            X[f'Thai_Gold_Min_Lag_{i}'] = data_clone['Thai_Gold_Min'].shift(i)\n",
        "        ASD=y\n",
        "        X = X.dropna().reset_index(drop=True)\n",
        "        y = np.array(y, dtype=np.float64)\n",
        "\n",
        "        # ลบ 3 index แรก\n",
        "        y = y[lag[lagFea]:]\n",
        "        scaler_X = MinMaxScaler(feature_range=(0,1))\n",
        "        scaler_y = MinMaxScaler(feature_range=(0,1))\n",
        "        X = scaler_X.fit_transform(X)\n",
        "        y = scaler_y.fit_transform(y)\n",
        "        print(len(y))\n",
        "        for lookbackFea in range(len(seq)):\n",
        "          def create_sequences(X, lookback):\n",
        "              X_seq = []\n",
        "              for i in range(len(X) - lookback):\n",
        "                  X_seq.append(X[i:i+lookback])\n",
        "                  # print(i+lookback)\n",
        "              return np.array(X_seq)\n",
        "          lookback = seq[lookbackFea]  # ดูย้อนหลัง 30 วัน\n",
        "          n_future = 1   # พยากรณ์ 7 วันข้างหน้า   # พยากรณ์ 7 วันข้างหน้า\n",
        "          X_seq = create_sequences(X, lookback)\n",
        "\n",
        "          # กำหนดขนาดข้อมูล\n",
        "          test_size = 15     # ขนาด Test Set\n",
        "          val_size = 20      # ขนาด Validation Set\n",
        "          train_size = X_seq.shape[0] - (val_size + test_size)  # ขนาด Training Set\n",
        "\n",
        "          # แบ่งข้อมูลเป็น Training, Validation และ Test ตามลำดับเวลา\n",
        "          X_train= X_seq[:train_size]\n",
        "          X_val = X_seq[train_size:train_size + val_size]\n",
        "          X_test = X_seq[train_size + val_size:]\n",
        "\n",
        "          # ตรวจสอบขนาดของชุดข้อมูล\n",
        "          # print(f\"X_train shape: {X_train.shape}, y_train shape: {y_train.shape}\")\n",
        "          # print(f\"X_val shape: {X_val.shape}, y_val shape: {y_val.shape}\")\n",
        "          # print(f\"X_test shape: {X_test.shape}, y_test shape: {y_test.shape}\")\n",
        "          MODEL_NAME ='Model_month.keras'\n",
        "          DESTINATION_DIR = \"models\"        # โฟลเดอร์ที่ต้องการเก็บโมเดลในเครื่อง\n",
        "          os.makedirs(DESTINATION_DIR, exist_ok=True)\n",
        "          destination_path = os.path.join(DESTINATION_DIR, MODEL_NAME)\n",
        "          blob = bucket.blob(f'models_month/{MODEL_NAME}')\n",
        "          blob.download_to_filename(destination_path)\n",
        "          # โหลดกลับมาใช้งาน\n",
        "          model = keras.models.load_model(destination_path)\n",
        "\n",
        "            # พยากรณ์\n",
        "          predictions = model.predict(X_test)\n",
        "\n",
        "            # แปลงผลลัพธ์กลับสู่สเกลเดิม\n",
        "          predictions_original = scaler_y.inverse_transform(predictions)\n",
        "\n"
      ],
      "metadata": {
        "colab": {
          "base_uri": "https://localhost:8080/"
        },
        "id": "q_tfJoybm6Ky",
        "outputId": "cd59fade-3f50-44f8-c9ae-568e26b73e99"
      },
      "id": "q_tfJoybm6Ky",
      "execution_count": null,
      "outputs": [
        {
          "output_type": "stream",
          "name": "stdout",
          "text": [
            "            Thai_Gold_Open  Thai_Gold_Max  Thai_Gold_Min  Price_Exchange_Mean  \\\n",
            "Date                                                                            \n",
            "2015-04-30         18300.0        18700.0        18150.0            32.631663   \n",
            "2015-05-31         18400.0        19300.0        18400.0            33.519400   \n",
            "2015-06-30         18850.0        19050.0        18700.0            33.718846   \n",
            "2015-07-31         18700.0        18700.0        17900.0            34.333132   \n",
            "2015-08-31         18050.0        19450.0        18000.0            35.413977   \n",
            "...                    ...            ...            ...                  ...   \n",
            "2024-12-31         42900.0        43300.0        42150.0            34.112823   \n",
            "2025-01-31         42550.0        44350.0        42550.0            34.203211   \n",
            "2025-02-28         44500.0        46900.0        44500.0            33.753608   \n",
            "2025-03-31         46300.0        49950.0        46250.0            33.722308   \n",
            "2025-04-30         50500.0        53000.0        49450.0            33.825744   \n",
            "\n",
            "               Xau_Mean Month  \n",
            "Date                           \n",
            "2015-04-30  1194.905000    04  \n",
            "2015-05-31  1198.630400    05  \n",
            "2015-06-30  1183.432692    06  \n",
            "2015-07-31  1134.015200    07  \n",
            "2015-08-31  1117.846923    08  \n",
            "...                 ...   ...  \n",
            "2024-12-31  2638.417692    12  \n",
            "2025-01-31  2699.837037    01  \n",
            "2025-02-28  2889.861250    02  \n",
            "2025-03-31  2974.530385    03  \n",
            "2025-04-30  3166.635556    04  \n",
            "\n",
            "[121 rows x 6 columns]\n",
            "118\n",
            "\u001b[1m1/1\u001b[0m \u001b[32m━━━━━━━━━━━━━━━━━━━━\u001b[0m\u001b[37m\u001b[0m \u001b[1m0s\u001b[0m 407ms/step\n"
          ]
        }
      ]
    },
    {
      "cell_type": "code",
      "source": [
        "df_last_15 = monthly_data.tail(15)"
      ],
      "metadata": {
        "id": "YfPMXWOQ0SO8"
      },
      "id": "YfPMXWOQ0SO8",
      "execution_count": null,
      "outputs": []
    },
    {
      "cell_type": "code",
      "source": [
        "df_last_15.reset_index(inplace=True)"
      ],
      "metadata": {
        "id": "ByNalo-t0uYw"
      },
      "id": "ByNalo-t0uYw",
      "execution_count": null,
      "outputs": []
    },
    {
      "cell_type": "code",
      "source": [
        "df_last_15 = df_last_15['Date'].reset_index(drop=True)"
      ],
      "metadata": {
        "id": "hZpi6sfg0cfT"
      },
      "id": "hZpi6sfg0cfT",
      "execution_count": null,
      "outputs": []
    },
    {
      "cell_type": "code",
      "source": [
        "predict = pd.DataFrame(predictions_original,columns=['open','high','low'])"
      ],
      "metadata": {
        "id": "ab8cAl-tz2sU"
      },
      "id": "ab8cAl-tz2sU",
      "execution_count": null,
      "outputs": []
    },
    {
      "cell_type": "code",
      "source": [
        "df_last_15=pd.concat([df_last_15, predict], axis=1)"
      ],
      "metadata": {
        "id": "kgLCQeHR1RF5"
      },
      "id": "kgLCQeHR1RF5",
      "execution_count": null,
      "outputs": []
    },
    {
      "cell_type": "code",
      "source": [
        "df_last_15.dtypes"
      ],
      "metadata": {
        "colab": {
          "base_uri": "https://localhost:8080/",
          "height": 209
        },
        "id": "v_4aLhxF-qgH",
        "outputId": "173724d3-185d-4cca-f418-7b53a5ccb5c3"
      },
      "id": "v_4aLhxF-qgH",
      "execution_count": null,
      "outputs": [
        {
          "output_type": "execute_result",
          "data": {
            "text/plain": [
              "Date    datetime64[ns]\n",
              "open           float32\n",
              "high           float32\n",
              "low            float32\n",
              "dtype: object"
            ],
            "text/html": [
              "<div>\n",
              "<style scoped>\n",
              "    .dataframe tbody tr th:only-of-type {\n",
              "        vertical-align: middle;\n",
              "    }\n",
              "\n",
              "    .dataframe tbody tr th {\n",
              "        vertical-align: top;\n",
              "    }\n",
              "\n",
              "    .dataframe thead th {\n",
              "        text-align: right;\n",
              "    }\n",
              "</style>\n",
              "<table border=\"1\" class=\"dataframe\">\n",
              "  <thead>\n",
              "    <tr style=\"text-align: right;\">\n",
              "      <th></th>\n",
              "      <th>0</th>\n",
              "    </tr>\n",
              "  </thead>\n",
              "  <tbody>\n",
              "    <tr>\n",
              "      <th>Date</th>\n",
              "      <td>datetime64[ns]</td>\n",
              "    </tr>\n",
              "    <tr>\n",
              "      <th>open</th>\n",
              "      <td>float32</td>\n",
              "    </tr>\n",
              "    <tr>\n",
              "      <th>high</th>\n",
              "      <td>float32</td>\n",
              "    </tr>\n",
              "    <tr>\n",
              "      <th>low</th>\n",
              "      <td>float32</td>\n",
              "    </tr>\n",
              "  </tbody>\n",
              "</table>\n",
              "</div><br><label><b>dtype:</b> object</label>"
            ]
          },
          "metadata": {},
          "execution_count": 10
        }
      ]
    },
    {
      "cell_type": "code",
      "source": [],
      "metadata": {
        "id": "6Yh9853QCgG6"
      },
      "id": "6Yh9853QCgG6",
      "execution_count": null,
      "outputs": []
    },
    {
      "cell_type": "code",
      "source": [
        "from datetime import datetime\n",
        "import time\n",
        "import pytz\n",
        "\n",
        "# กำหนดโซนเวลา Indochina (ICT, UTC+7)\n",
        "indochina_tz = pytz.timezone('Asia/Bangkok')\n",
        "\n",
        "# เวลาปัจจุบันใน UTC\n",
        "current_utc_time = datetime.utcnow().replace(tzinfo=pytz.utc)\n",
        "\n",
        "# เวลาปัจจุบันใน Indochina Time (ICT, UTC+7)\n",
        "current_ict_time = current_utc_time.astimezone(indochina_tz)\n",
        "\n",
        "# แปลงเป็น Unix Timestamp (วินาที)\n",
        "current_unix_time = int(time.time())\n",
        "\n",
        "# ปรับฟอร์แมตของ Timestamp ICT ให้เป็น `YYYY-MM-DD HH:MM:SS.SSS +0700`\n",
        "timestamp_ict_formatted = current_ict_time.strftime('%Y-%m-%d %H:%M:%S.%f')[:-3] + \" +0700\"\n",
        "\n",
        "# เพิ่มคอลัมน์ลงใน df_last_350\n",
        "df_last_15 = df_last_15.assign(\n",
        "    timestamp=current_unix_time,  # Unix Timestamp (UTC)\n",
        "    created_at=timestamp_ict_formatted  # Timestamp ICT แบบฟอร์แมตที่ต้องการ\n",
        ")\n",
        "df_last_15.rename(columns={\"Date\": \"date\"}, inplace=True)\n",
        "# df_last_15[\"date\"] = pd.to_datetime(df_last_15[\"date\"])  # แปลงเป็น datetime64\n",
        "# df_last_15[\"timestamp\"] = df_last_15[\"date\"].astype(\"int64\") // 10**9  # แปลงเป็น Unix timestamp (วินาที)\n",
        "df_last_15['month_predict'] = (df_last_15['date'] + pd.DateOffset(months=1)).dt.strftime('%Y-%m')\n",
        "df_last_15[\"date\"] = df_last_15[\"date\"].astype(str).str[:16]  # ตัดให้ไม่เกิน 16 ตัวอักษร\n",
        "df_last_15[\"month_predict\"] = df_last_15[\"month_predict\"].astype(str).str[:16]  # ตัดให้ไม่เกิน 16 ตัวอักษร\n",
        "# แสดงผลลัพธ์\n",
        "df_last_15=df_last_15.iloc[[-1]]\n",
        "# df_last_15[['open', 'high', 'low']] = df_last_15[['open', 'high', 'low']].astype(float)"
      ],
      "metadata": {
        "id": "y1HRC-hw8__X"
      },
      "id": "y1HRC-hw8__X",
      "execution_count": null,
      "outputs": []
    },
    {
      "cell_type": "code",
      "source": [
        "print(df_last_15)"
      ],
      "metadata": {
        "colab": {
          "base_uri": "https://localhost:8080/"
        },
        "id": "My61_2bj4EaE",
        "outputId": "d40a0ce0-a4b7-42c2-e51c-cd56f2571f2c"
      },
      "id": "My61_2bj4EaE",
      "execution_count": null,
      "outputs": [
        {
          "output_type": "stream",
          "name": "stdout",
          "text": [
            "          date          open          high           low   timestamp  \\\n",
            "0   2024-02-29  34543.136719  36734.585938  33567.371094  1709164800   \n",
            "1   2024-03-31  35024.566406  37273.632812  34022.820312  1711843200   \n",
            "2   2024-04-30  35606.144531  37943.449219  34580.597656  1714435200   \n",
            "3   2024-05-31  36880.761719  39407.617188  35818.421875  1717113600   \n",
            "4   2024-06-30  39871.332031  42878.187500  38661.914062  1719705600   \n",
            "5   2024-07-31  43176.320312  46746.281250  41833.917969  1722384000   \n",
            "6   2024-08-31  45774.722656  49828.851562  44334.824219  1725062400   \n",
            "7   2024-09-30  46465.710938  50667.250000  44999.578125  1727654400   \n",
            "8   2024-10-31  46698.460938  50946.664062  45215.675781  1730332800   \n",
            "9   2024-11-30  46984.593750  51292.636719  45500.886719  1732924800   \n",
            "10  2024-12-31  47511.753906  51909.714844  46023.175781  1735603200   \n",
            "11  2025-01-31  49070.621094  53767.378906  47530.253906  1738281600   \n",
            "12  2025-02-28  49837.949219  54802.570312  48335.796875  1740700800   \n",
            "13  2025-03-31  50817.730469  55995.910156  49296.527344  1743379200   \n",
            "14  2025-04-30  51977.890625  57410.656250  50447.203125  1745971200   \n",
            "\n",
            "                       created_at month_predict  \n",
            "0   2025-04-22 01:36:15.497 +0700       2024-03  \n",
            "1   2025-04-22 01:36:15.497 +0700       2024-04  \n",
            "2   2025-04-22 01:36:15.497 +0700       2024-05  \n",
            "3   2025-04-22 01:36:15.497 +0700       2024-06  \n",
            "4   2025-04-22 01:36:15.497 +0700       2024-07  \n",
            "5   2025-04-22 01:36:15.497 +0700       2024-08  \n",
            "6   2025-04-22 01:36:15.497 +0700       2024-09  \n",
            "7   2025-04-22 01:36:15.497 +0700       2024-10  \n",
            "8   2025-04-22 01:36:15.497 +0700       2024-11  \n",
            "9   2025-04-22 01:36:15.497 +0700       2024-12  \n",
            "10  2025-04-22 01:36:15.497 +0700       2025-01  \n",
            "11  2025-04-22 01:36:15.497 +0700       2025-02  \n",
            "12  2025-04-22 01:36:15.497 +0700       2025-03  \n",
            "13  2025-04-22 01:36:15.497 +0700       2025-04  \n",
            "14  2025-04-22 01:36:15.497 +0700       2025-05  \n"
          ]
        }
      ]
    },
    {
      "cell_type": "code",
      "source": [
        "from sqlalchemy import create_engine\n",
        "# แปลง date เป็น datetime\n",
        "df=monthly_data\n",
        "df.reset_index(inplace=True)\n",
        "df = df['Date'].reset_index(drop=True)\n",
        "df = df.to_frame()\n",
        "df= pd.to_datetime(df[\"Date\"])\n",
        "df = df.to_frame()\n",
        "# ดึงวันที่ล่าสุดจาก DataFrame\n",
        "last_date = df['Date'].max().date()  # เอาเฉพาะวันที่ (ไม่เอาเวลา)\n",
        "\n",
        "# ดึงวันที่ปัจจุบัน\n",
        "today = datetime.now().date()\n",
        "if last_date == today:\n",
        "  # 🔹 กำหนดค่าการเชื่อมต่อ PostgreSQL\n",
        "  DB_USER = \"postgres\"  # ชื่อผู้ใช้ PostgreSQL\n",
        "  DB_PASSWORD = \"postgres\"  # รหัสผ่าน\n",
        "  DB_HOST = \"34.133.61.28\"  # ปกติใช้ \"localhost\" หรือ IP ของเซิร์ฟเวอร์\n",
        "  DB_PORT = \"5432\"  # พอร์ตเริ่มต้นของ PostgreSQL\n",
        "  DB_NAME = \"postgres\"  # ชื่อฐานข้อมูล\n",
        "  TABLE_NAME = \"predicts_month\"  # ชื่อตารางที่ต้องการ INSERT\n",
        "\n",
        "    # 🔹 สร้าง Connection ไปยัง PostgreSQL ด้วย SQLAlchemy\n",
        "  engine = create_engine(f\"postgresql+psycopg2://{DB_USER}:{DB_PASSWORD}@{DB_HOST}:{DB_PORT}/{DB_NAME}\")\n",
        "    # df_last_350['created_at'] = pd.to_datetime(df_last_350['created_at']).dt.tz_convert('Asia/Bangkok')\n",
        "\n",
        "    # 🔹 Insert DataFrame ลงใน PostgreSQL (ถ้าตารางไม่มีให้สร้างอัตโนมัติ)\n",
        "  df_last_15.to_sql(TABLE_NAME, engine, if_exists=\"append\", index=False)\n",
        "\n",
        "  print(f\"✅ Insert DataFrame ลงใน PostgreSQL ตาราง {TABLE_NAME} สำเร็จ!\")\n"
      ],
      "metadata": {
        "id": "c4IeT_Bd_KkZ",
        "colab": {
          "base_uri": "https://localhost:8080/"
        },
        "outputId": "bd5ac65a-f05a-4a66-dc0a-6cd2ace360f0"
      },
      "id": "c4IeT_Bd_KkZ",
      "execution_count": null,
      "outputs": [
        {
          "output_type": "stream",
          "name": "stdout",
          "text": [
            "✅ Insert DataFrame ลงใน PostgreSQL ตาราง predicts_month สำเร็จ!\n"
          ]
        }
      ]
    }
  ],
  "metadata": {
    "kernelspec": {
      "display_name": "Python 3",
      "language": "python",
      "name": "python3"
    },
    "language_info": {
      "codemirror_mode": {
        "name": "ipython",
        "version": 3
      },
      "file_extension": ".py",
      "mimetype": "text/x-python",
      "name": "python",
      "nbconvert_exporter": "python",
      "pygments_lexer": "ipython3",
      "version": "3.10.10"
    },
    "colab": {
      "provenance": [],
      "name": "Model_month_predict.ipynb"
    }
  },
  "nbformat": 4,
  "nbformat_minor": 5
}